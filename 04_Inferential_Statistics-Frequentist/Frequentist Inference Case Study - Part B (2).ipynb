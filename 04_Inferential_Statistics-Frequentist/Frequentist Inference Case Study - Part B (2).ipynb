{
 "cells": [
  {
   "cell_type": "code",
   "execution_count": 3,
   "metadata": {},
   "outputs": [
    {
     "name": "stdout",
     "output_type": "stream",
     "text": [
      "Jae H. Choi 2020-10-25 23:02:11 \n",
      "\n",
      "CPython 3.8.3\n",
      "IPython 7.16.1\n",
      "\n",
      "typing unknown\n"
     ]
    }
   ],
   "source": [
    "# 1. magic to print version\n",
    "# 2. magic so that the notebook will reload external python modules\n",
    "# https://gist.github.com/minrk/3301035\n",
    "%load_ext watermark\n",
    "%load_ext autoreload\n",
    "%autoreload \n",
    "from typing import List\n",
    "%watermark -a 'Jae H. Choi' -d -t -v -p typing"
   ]
  },
  {
   "cell_type": "markdown",
   "metadata": {},
   "source": [
    "> NOTE: Check [Link](https://online.stat.psu.edu/stat200/lesson/6/6.6) for Stat study"
   ]
  },
  {
   "cell_type": "markdown",
   "metadata": {},
   "source": [
    "# Frequentist Inference Case Study - Part B"
   ]
  },
  {
   "cell_type": "markdown",
   "metadata": {},
   "source": [
    "## Learning objectives"
   ]
  },
  {
   "cell_type": "markdown",
   "metadata": {},
   "source": [
    "Welcome to Part B of the Frequentist inference case study! The purpose of this case study is to help you apply the concepts associated with Frequentist inference in Python. In particular, you'll practice writing Python code to apply the following statistical concepts: \n",
    "* the _z_-statistic\n",
    "* the _t_-statistic\n",
    "* the difference and relationship between the two\n",
    "* the Central Limit Theorem, including its assumptions and consequences\n",
    "* how to estimate the population mean and standard deviation from a sample\n",
    "* the concept of a sampling distribution of a test statistic, particularly for the mean\n",
    "* how to combine these concepts to calculate a confidence interval"
   ]
  },
  {
   "cell_type": "markdown",
   "metadata": {},
   "source": [
    "In the previous notebook, we used only data from a known normal distribution. **You'll now tackle real data, rather than simulated data, and answer some relevant real-world business problems using the data.**"
   ]
  },
  {
   "cell_type": "markdown",
   "metadata": {},
   "source": [
    "## Hospital medical charges"
   ]
  },
  {
   "cell_type": "markdown",
   "metadata": {},
   "source": [
    "Imagine that a hospital has hired you as their data scientist. An administrator is working on the hospital's business operations plan and needs you to help them answer some business questions. \n",
    "\n",
    "In this assignment notebook, you're going to use frequentist statistical inference on a data sample to answer the questions:\n",
    "* has the hospital's revenue stream fallen below a key threshold?\n",
    "* are patients with insurance really charged different amounts than those without?\n",
    "\n",
    "Answering that last question with a frequentist approach makes some assumptions, and requires some knowledge, about the two groups."
   ]
  },
  {
   "cell_type": "markdown",
   "metadata": {},
   "source": [
    "We are going to use some data on medical charges obtained from [Kaggle](https://www.kaggle.com/easonlai/sample-insurance-claim-prediction-dataset). \n",
    "\n",
    "For the purposes of this exercise, assume the observations are the result of random sampling from our single hospital. Recall that in the previous assignment, we introduced the Central Limit Theorem (CLT), and its consequence that the distributions of sample statistics approach a normal distribution as $n$ increases. The amazing thing about this is that it applies to the sampling distributions of statistics that have been calculated from even highly non-normal distributions of data! Recall, also, that hypothesis testing is very much based on making inferences about such sample statistics. You're going to rely heavily on the CLT to apply frequentist (parametric) tests to answer the questions in this notebook."
   ]
  },
  {
   "cell_type": "code",
   "execution_count": 4,
   "metadata": {},
   "outputs": [],
   "source": [
    "import pandas as pd\n",
    "import numpy as np\n",
    "import matplotlib.pyplot as plt\n",
    "from scipy.stats import t, ttest_ind_from_stats\n",
    "from numpy.random import seed\n",
    "import seaborn as sns; sns.set_style(\"whitegrid\")\n",
    "medical = pd.read_csv('insurance2.csv')\n"
   ]
  },
  {
   "cell_type": "code",
   "execution_count": 5,
   "metadata": {},
   "outputs": [
    {
     "data": {
      "text/plain": [
       "(1338, 8)"
      ]
     },
     "execution_count": 5,
     "metadata": {},
     "output_type": "execute_result"
    }
   ],
   "source": [
    "medical.shape"
   ]
  },
  {
   "cell_type": "code",
   "execution_count": 6,
   "metadata": {},
   "outputs": [
    {
     "data": {
      "text/html": [
       "<div>\n",
       "<style scoped>\n",
       "    .dataframe tbody tr th:only-of-type {\n",
       "        vertical-align: middle;\n",
       "    }\n",
       "\n",
       "    .dataframe tbody tr th {\n",
       "        vertical-align: top;\n",
       "    }\n",
       "\n",
       "    .dataframe thead th {\n",
       "        text-align: right;\n",
       "    }\n",
       "</style>\n",
       "<table border=\"1\" class=\"dataframe\">\n",
       "  <thead>\n",
       "    <tr style=\"text-align: right;\">\n",
       "      <th></th>\n",
       "      <th>age</th>\n",
       "      <th>sex</th>\n",
       "      <th>bmi</th>\n",
       "      <th>children</th>\n",
       "      <th>smoker</th>\n",
       "      <th>region</th>\n",
       "      <th>charges</th>\n",
       "      <th>insuranceclaim</th>\n",
       "    </tr>\n",
       "  </thead>\n",
       "  <tbody>\n",
       "    <tr>\n",
       "      <th>0</th>\n",
       "      <td>19</td>\n",
       "      <td>0</td>\n",
       "      <td>27.90</td>\n",
       "      <td>0</td>\n",
       "      <td>1</td>\n",
       "      <td>3</td>\n",
       "      <td>16884.9240</td>\n",
       "      <td>1</td>\n",
       "    </tr>\n",
       "    <tr>\n",
       "      <th>1</th>\n",
       "      <td>18</td>\n",
       "      <td>1</td>\n",
       "      <td>33.77</td>\n",
       "      <td>1</td>\n",
       "      <td>0</td>\n",
       "      <td>2</td>\n",
       "      <td>1725.5523</td>\n",
       "      <td>1</td>\n",
       "    </tr>\n",
       "    <tr>\n",
       "      <th>2</th>\n",
       "      <td>28</td>\n",
       "      <td>1</td>\n",
       "      <td>33.00</td>\n",
       "      <td>3</td>\n",
       "      <td>0</td>\n",
       "      <td>2</td>\n",
       "      <td>4449.4620</td>\n",
       "      <td>0</td>\n",
       "    </tr>\n",
       "  </tbody>\n",
       "</table>\n",
       "</div>"
      ],
      "text/plain": [
       "   age  sex    bmi  children  smoker  region     charges  insuranceclaim\n",
       "0   19    0  27.90         0       1       3  16884.9240               1\n",
       "1   18    1  33.77         1       0       2   1725.5523               1\n",
       "2   28    1  33.00         3       0       2   4449.4620               0"
      ]
     },
     "execution_count": 6,
     "metadata": {},
     "output_type": "execute_result"
    }
   ],
   "source": [
    "medical.head(3)"
   ]
  },
  {
   "cell_type": "code",
   "execution_count": 7,
   "metadata": {},
   "outputs": [
    {
     "data": {
      "text/html": [
       "<div>\n",
       "<style scoped>\n",
       "    .dataframe tbody tr th:only-of-type {\n",
       "        vertical-align: middle;\n",
       "    }\n",
       "\n",
       "    .dataframe tbody tr th {\n",
       "        vertical-align: top;\n",
       "    }\n",
       "\n",
       "    .dataframe thead th {\n",
       "        text-align: right;\n",
       "    }\n",
       "</style>\n",
       "<table border=\"1\" class=\"dataframe\">\n",
       "  <thead>\n",
       "    <tr style=\"text-align: right;\">\n",
       "      <th></th>\n",
       "      <th>age</th>\n",
       "      <th>sex</th>\n",
       "      <th>bmi</th>\n",
       "      <th>children</th>\n",
       "      <th>smoker</th>\n",
       "      <th>region</th>\n",
       "      <th>charges</th>\n",
       "      <th>insuranceclaim</th>\n",
       "    </tr>\n",
       "  </thead>\n",
       "  <tbody>\n",
       "    <tr>\n",
       "      <th>count</th>\n",
       "      <td>1338.000000</td>\n",
       "      <td>1338.000000</td>\n",
       "      <td>1338.000000</td>\n",
       "      <td>1338.000000</td>\n",
       "      <td>1338.000000</td>\n",
       "      <td>1338.000000</td>\n",
       "      <td>1338.000000</td>\n",
       "      <td>1338.000000</td>\n",
       "    </tr>\n",
       "    <tr>\n",
       "      <th>mean</th>\n",
       "      <td>39.207025</td>\n",
       "      <td>0.505232</td>\n",
       "      <td>30.663397</td>\n",
       "      <td>1.094918</td>\n",
       "      <td>0.204783</td>\n",
       "      <td>1.515695</td>\n",
       "      <td>13270.422265</td>\n",
       "      <td>0.585202</td>\n",
       "    </tr>\n",
       "    <tr>\n",
       "      <th>std</th>\n",
       "      <td>14.049960</td>\n",
       "      <td>0.500160</td>\n",
       "      <td>6.098187</td>\n",
       "      <td>1.205493</td>\n",
       "      <td>0.403694</td>\n",
       "      <td>1.104885</td>\n",
       "      <td>12110.011237</td>\n",
       "      <td>0.492871</td>\n",
       "    </tr>\n",
       "    <tr>\n",
       "      <th>min</th>\n",
       "      <td>18.000000</td>\n",
       "      <td>0.000000</td>\n",
       "      <td>15.960000</td>\n",
       "      <td>0.000000</td>\n",
       "      <td>0.000000</td>\n",
       "      <td>0.000000</td>\n",
       "      <td>1121.873900</td>\n",
       "      <td>0.000000</td>\n",
       "    </tr>\n",
       "    <tr>\n",
       "      <th>25%</th>\n",
       "      <td>27.000000</td>\n",
       "      <td>0.000000</td>\n",
       "      <td>26.296250</td>\n",
       "      <td>0.000000</td>\n",
       "      <td>0.000000</td>\n",
       "      <td>1.000000</td>\n",
       "      <td>4740.287150</td>\n",
       "      <td>0.000000</td>\n",
       "    </tr>\n",
       "    <tr>\n",
       "      <th>50%</th>\n",
       "      <td>39.000000</td>\n",
       "      <td>1.000000</td>\n",
       "      <td>30.400000</td>\n",
       "      <td>1.000000</td>\n",
       "      <td>0.000000</td>\n",
       "      <td>2.000000</td>\n",
       "      <td>9382.033000</td>\n",
       "      <td>1.000000</td>\n",
       "    </tr>\n",
       "    <tr>\n",
       "      <th>75%</th>\n",
       "      <td>51.000000</td>\n",
       "      <td>1.000000</td>\n",
       "      <td>34.693750</td>\n",
       "      <td>2.000000</td>\n",
       "      <td>0.000000</td>\n",
       "      <td>2.000000</td>\n",
       "      <td>16639.912515</td>\n",
       "      <td>1.000000</td>\n",
       "    </tr>\n",
       "    <tr>\n",
       "      <th>max</th>\n",
       "      <td>64.000000</td>\n",
       "      <td>1.000000</td>\n",
       "      <td>53.130000</td>\n",
       "      <td>5.000000</td>\n",
       "      <td>1.000000</td>\n",
       "      <td>3.000000</td>\n",
       "      <td>63770.428010</td>\n",
       "      <td>1.000000</td>\n",
       "    </tr>\n",
       "  </tbody>\n",
       "</table>\n",
       "</div>"
      ],
      "text/plain": [
       "               age          sex          bmi     children       smoker  \\\n",
       "count  1338.000000  1338.000000  1338.000000  1338.000000  1338.000000   \n",
       "mean     39.207025     0.505232    30.663397     1.094918     0.204783   \n",
       "std      14.049960     0.500160     6.098187     1.205493     0.403694   \n",
       "min      18.000000     0.000000    15.960000     0.000000     0.000000   \n",
       "25%      27.000000     0.000000    26.296250     0.000000     0.000000   \n",
       "50%      39.000000     1.000000    30.400000     1.000000     0.000000   \n",
       "75%      51.000000     1.000000    34.693750     2.000000     0.000000   \n",
       "max      64.000000     1.000000    53.130000     5.000000     1.000000   \n",
       "\n",
       "            region       charges  insuranceclaim  \n",
       "count  1338.000000   1338.000000     1338.000000  \n",
       "mean      1.515695  13270.422265        0.585202  \n",
       "std       1.104885  12110.011237        0.492871  \n",
       "min       0.000000   1121.873900        0.000000  \n",
       "25%       1.000000   4740.287150        0.000000  \n",
       "50%       2.000000   9382.033000        1.000000  \n",
       "75%       2.000000  16639.912515        1.000000  \n",
       "max       3.000000  63770.428010        1.000000  "
      ]
     },
     "execution_count": 7,
     "metadata": {},
     "output_type": "execute_result"
    }
   ],
   "source": [
    "medical.describe()"
   ]
  },
  {
   "cell_type": "code",
   "execution_count": 8,
   "metadata": {},
   "outputs": [
    {
     "name": "stdout",
     "output_type": "stream",
     "text": [
      "no missing values.\n"
     ]
    }
   ],
   "source": [
    "# To show which columns contain nans ('Not A Number').\n",
    "missingCol = medical.columns[medical.isnull().any()].tolist()\n",
    "\n",
    "if len(missingCol)!=0:\n",
    "    plt.rcParams['figure.figsize'] = [12, 10]\n",
    "    missingCounts = medical[missingCol].isnull().sum()\n",
    "    plt.plot(missingCounts, kind='barh', figsize=(4,4))\n",
    "    plt.xlabel('Counts of NaNs')\n",
    "    plt.show()\n",
    "else:\n",
    "    print(f\"no missing values.\")"
   ]
  },
  {
   "cell_type": "markdown",
   "metadata": {},
   "source": [
    "__Q1:__ Plot the histogram of charges and calculate the mean and standard deviation. Comment on the appropriateness of these statistics for the data."
   ]
  },
  {
   "cell_type": "markdown",
   "metadata": {},
   "source": [
    "__A:__ <font color='red'> \n",
    "By using `np.mean()`, `np.std(,ddof=1)`, `np.median()` functions, statistic parameters of sample distribution were drawn. <br>\n",
    "mean ($\\overline{x}$): 13270.42<br>\n",
    "std ($s$): 12110.01<br>\n",
    "median: 9382.03\n",
    "</font>"
   ]
  },
  {
   "cell_type": "code",
   "execution_count": 1,
   "metadata": {},
   "outputs": [
    {
     "ename": "NameError",
     "evalue": "name 'medical' is not defined",
     "output_type": "error",
     "traceback": [
      "\u001b[0;31m---------------------------------------------------------------------------\u001b[0m",
      "\u001b[0;31mNameError\u001b[0m                                 Traceback (most recent call last)",
      "\u001b[0;32m<ipython-input-1-aedfbe7010f6>\u001b[0m in \u001b[0;36m<module>\u001b[0;34m\u001b[0m\n\u001b[0;32m----> 1\u001b[0;31m \u001b[0mmedical_charges\u001b[0m\u001b[0;34m=\u001b[0m\u001b[0mmedical\u001b[0m\u001b[0;34m[\u001b[0m\u001b[0;34m'charges'\u001b[0m\u001b[0;34m]\u001b[0m\u001b[0;34m\u001b[0m\u001b[0;34m\u001b[0m\u001b[0m\n\u001b[0m\u001b[1;32m      2\u001b[0m \u001b[0mprint\u001b[0m\u001b[0;34m(\u001b[0m\u001b[0mmedical_charges\u001b[0m\u001b[0;34m.\u001b[0m\u001b[0mhead\u001b[0m\u001b[0;34m(\u001b[0m\u001b[0;36m3\u001b[0m\u001b[0;34m)\u001b[0m\u001b[0;34m)\u001b[0m\u001b[0;34m\u001b[0m\u001b[0;34m\u001b[0m\u001b[0m\n\u001b[1;32m      3\u001b[0m \u001b[0msample_size\u001b[0m\u001b[0;34m=\u001b[0m\u001b[0mlen\u001b[0m\u001b[0;34m(\u001b[0m\u001b[0mmedical_charges\u001b[0m\u001b[0;34m)\u001b[0m\u001b[0;34m\u001b[0m\u001b[0;34m\u001b[0m\u001b[0m\n\u001b[1;32m      4\u001b[0m \u001b[0mprint\u001b[0m\u001b[0;34m(\u001b[0m\u001b[0;34mf'length of the data: {sample_size}'\u001b[0m\u001b[0;34m)\u001b[0m\u001b[0;34m\u001b[0m\u001b[0;34m\u001b[0m\u001b[0m\n",
      "\u001b[0;31mNameError\u001b[0m: name 'medical' is not defined"
     ]
    }
   ],
   "source": [
    "medical_charges=medical['charges']\n",
    "print(medical_charges.head(3))\n",
    "sample_size=len(medical_charges)\n",
    "print(f'length of the data: {sample_size}')\n"
   ]
  },
  {
   "cell_type": "code",
   "execution_count": 32,
   "metadata": {},
   "outputs": [
    {
     "name": "stdout",
     "output_type": "stream",
     "text": [
      "mean: 13270.42\n",
      "std: 12110.01\n",
      "median: 9382.03\n"
     ]
    }
   ],
   "source": [
    "mean_med_charges=np.mean(medical_charges)\n",
    "# sample std must have n-1 in denominator. \n",
    "std_med_charges=np.std(medical_charges, ddof=1)\n",
    "median_med_charges=np.median(medical_charges)\n",
    "\n",
    "print(f\"mean: {mean_med_charges:.2f}\")\n",
    "print(f\"std: {std_med_charges:.2f}\")\n",
    "print(f\"median: {median_med_charges:.2f}\")"
   ]
  },
  {
   "cell_type": "code",
   "execution_count": 46,
   "metadata": {},
   "outputs": [
    {
     "data": {
      "image/png": "[encoded data removed]",
      "text/plain": [
       "<Figure size 432x288 with 1 Axes>"
      ]
     },
     "metadata": {},
     "output_type": "display_data"
    }
   ],
   "source": [
    "fig, ax = plt.subplots(1,1, figsize = (6,4))\n",
    "# bin number represents the number of bins (100: 100 bins)\n",
    "ax.hist(medical_charges, bins=100, alpha=0.7) \n",
    "plt.xlabel('medical charges ($)')\n",
    "plt.ylabel('number of people')\n",
    "plt.title('Distribution of medical charges, size of 1338 by **plt**')\n",
    "plt.axvline(mean_med_charges, color='blue', linestyle='-')\n",
    "plt.axvline(mean_med_charges+std_med_charges, color='r', linestyle='-.')\n",
    "plt.axvline(mean_med_charges-std_med_charges, color='r', linestyle='-.')\n",
    "ax.text(x=mean_med_charges+10,y=50, s='mean: 13270.42', alpha=1.0, color='blue')\n",
    "ax.text(x=mean_med_charges+std_med_charges+10,y=46, s='std: 12110.01', alpha=1.0, color='r')\n",
    "plt.show()"
   ]
  },
  {
   "cell_type": "code",
   "execution_count": 48,
   "metadata": {},
   "outputs": [
    {
     "data": {
      "image/png": "[encoded data removed]",
      "text/plain": [
       "<Figure size 432x288 with 1 Axes>"
      ]
     },
     "metadata": {},
     "output_type": "display_data"
    }
   ],
   "source": [
    "fig, ax = plt.subplots(1,1, figsize = (6,4))\n",
    "ax=sns.distplot(medical_charges, bins=100, rug=True, \n",
    "             rug_kws={\"color\": \"dodgerblue\"},\n",
    "             kde_kws={\"color\": \"y\", \"lw\": 2, \"label\": \"KDE\"},\n",
    "             hist_kws={\"histtype\": \"step\", \"linewidth\": 1, \"alpha\": 1, \"color\": \"k\"})\n",
    "plt.xlabel('medical charges ($)')\n",
    "plt.ylabel('number of people')\n",
    "plt.title('Distribution of medical charges, size of 1338 by **sns**')\n",
    "plt.axvline(mean_med_charges, color='blue', linestyle='-')\n",
    "plt.axvline(mean_med_charges+std_med_charges, color='r', linestyle='-.')\n",
    "plt.axvline(mean_med_charges-std_med_charges, color='r', linestyle='-.')\n",
    "#ax.text(x=mean_med_charges+10,y=50, s='mean: 13270.42', alpha=1.0, color='blue')\n",
    "#ax.text(x=mean_med_charges+std_med_charges+10,y=46, s='std: 12110.01', alpha=1.0, color='r')\n",
    "plt.show()"
   ]
  },
  {
   "cell_type": "markdown",
   "metadata": {},
   "source": [
    "For hypothesis testing, the following assumptions are important to be considered:<br> \n",
    "1. **Randomization**: The statement mentioned the samples were randomly selected.<br>\n",
    "2. **Independence**: Individual medical charges are independent of each other since one does not affect another. Each medical charge is an independent event. <br>\n",
    "3. **10%** Condition: When the sample is drawn without replacement (usually the case), the sample size, n, should be no more than 10% of the population. Let's assume that the population is over 1338*10. Then,  the sample size of 1338 meets 10% condition.<br>\n",
    "4. <strong>>30</strong> Rule: In general a sample size of 30 is considered sufficient if the sample is unimodal. In this case, sample size is 1338 > 30. <br>\n",
    "\n",
    "> Reference: [Central Limit Theorem Assumptions and Conditions](https://cnx.org/contents/7mUmR30Q@1/Central-Limit-Theorem-Assumptions-and-Conditions)"
   ]
  },
  {
   "cell_type": "code",
   "execution_count": 124,
   "metadata": {},
   "outputs": [
    {
     "name": "stdout",
     "output_type": "stream",
     "text": [
      "size: 130\n",
      "mean: 11218.86\n",
      "std: 10977.02\n",
      "median: 8062.11\n"
     ]
    }
   ],
   "source": [
    "####################### sampled 130 vs. sampled 1338: which is better? #######################\n",
    "seed(47)\n",
    "# args: array, size, [0.5, 0.1, 0.1, 0.3]\n",
    "sampled_charges_130=np.random.choice(medical_charges, size=130, p=None)\n",
    "size_130=len(sampled_charges_130)\n",
    "mean_130=np.mean(sampled_charges_130)\n",
    "# sample std must have n-1 in denominator. \n",
    "std_130=np.std(sampled_charges_130, ddof=1)\n",
    "median_130=np.median(sampled_charges_130)\n",
    "\n",
    "print(f\"size: {size_130}\")\n",
    "print(f\"mean: {mean_130:.2f}\")\n",
    "print(f\"std: {std_130:.2f}\")\n",
    "print(f\"median: {median_130:.2f}\")"
   ]
  },
  {
   "cell_type": "code",
   "execution_count": 125,
   "metadata": {},
   "outputs": [
    {
     "data": {
      "image/png": "[encoded data removed]",
      "text/plain": [
       "<Figure size 432x288 with 1 Axes>"
      ]
     },
     "metadata": {},
     "output_type": "display_data"
    }
   ],
   "source": [
    "fig, ax = plt.subplots(1,1, figsize = (6,4))\n",
    "# bin number represents the number of bins (65: 130/2 bins)\n",
    "ax.hist(sampled_charges_130, bins=65, alpha=0.7) \n",
    "plt.xlabel('medical charges ($)')\n",
    "plt.ylabel('number of people')\n",
    "plt.title('Distribution of medical charges, size of 130 by **plt**')\n",
    "plt.axvline(mean_130, color='blue', linestyle='-')\n",
    "plt.axvline(mean_130+std_130, color='r', linestyle='-.')\n",
    "plt.axvline(mean_130-std_130, color='r', linestyle='-.')\n",
    "ax.text(x=mean_130+10,y=12, s='mean: 13270.42', alpha=1.0, color='blue')\n",
    "ax.text(x=mean_130+std_130+10,y=10, s='std: 12110.01', alpha=1.0, color='r')\n",
    "plt.show()"
   ]
  },
  {
   "cell_type": "markdown",
   "metadata": {},
   "source": [
    "__Q2:__ The administrator is concerned that the actual average charge has fallen below 12,000, threatening the hospital's operational model. On the assumption that these data represent a random sample of charges, how would you justify that these data allow you to answer that question? And what would be the most appropriate frequentist test, of the ones discussed so far, to apply?"
   ]
  },
  {
   "cell_type": "markdown",
   "metadata": {},
   "source": [
    "__A:__ \n",
    "<font color='red'> critical t-value approach in Hypothesis testing helps determining \"likely\" or \"unlikely\". That is, t-value is a cut-off value to compare with observed test statistic. <br> \n",
    "    1. Set $H_0$ and $H_a$. <br> \n",
    "    2. To conduct the hypothesis test for $\\mu_0$, we use the t-statistic $t^*=\\frac{\\overline{x}-\\mu_0}{s / \\sqrt{n}}$ which follows a t-distribution with n - 1 degrees of freedom (n-1 independent events). <br> \n",
    "    3. Find t-value that makes a Type-1 error ($\\alpha$) small (typically 0.01, 0.05, or 0.10 for 99%, 95%, 90% CI respectively). <br>\n",
    "    4. Compare $t^*$ to t-value. <br>\n",
    "> Check the [reference](https://online.stat.psu.edu/statprogram/reviews/statistical-concepts/hypothesis-testing/critical-value-approach) for hypothesis testing. <br>  </font>  \n",
    "\n",
    "<font color='red'>\n",
    "Here, null hypothesis is that \\\\$ 12,000 is maintained ($H_0: \\mu=12000$) and alternative hypothesis is below \\\\$ 12,000 ($H_a: \\mu<12000$).<br>\n",
    "Thus, one-tailed test is needed; $t^*=3.837$ and t-value=-1.65. \n",
    "Since $\\text{t-value} < t^*$, we reject $H_0$. Thus, We need to worry about medical charge falls below \\\\$ 12,000 based on data. <br>\n",
    "</font>"
   ]
  },
  {
   "cell_type": "markdown",
   "metadata": {},
   "source": [
    "__Q3:__ Given the nature of the administrator's concern, what is the appropriate confidence interval in this case? A ***one-sided*** or ***two-sided*** interval? (Refresh your understanding of this concept on p. 399 of the *AoS*). Calculate the critical value and the relevant 95% confidence interval for the mean, and comment on whether the administrator should be concerned."
   ]
  },
  {
   "cell_type": "markdown",
   "metadata": {},
   "source": [
    "__A:__ <font color='red'> \n",
    "Since the administrator's concern madical charge below \\\\$ 12,000, we check **one-side** (one-tailed) test. <br>\n",
    "t-value: -1.65 <br>\n",
    "$t^*$: 3.837 <br>\n",
    "Since $\\text{t-value} < t^*$, we reject $H_0$. Thus, We need not to worry about medical charge falls below \\\\$ 12,000 based on data.\n",
    "</font>"
   ]
  },
  {
   "cell_type": "code",
   "execution_count": 176,
   "metadata": {},
   "outputs": [
    {
     "name": "stdout",
     "output_type": "stream",
     "text": [
      "The critical t-value for 95% confidence interval: -1.65 \n"
     ]
    }
   ],
   "source": [
    "# alpha=0.05 so that we have only a 5% chance of making a Type I error\n",
    "alpha = 0.05 \n",
    "dof = sample_size - 1  # degrees of freedom \n",
    "# left tail alpha=0.05, dof=n-1: t.ppf(alpha, dof)\n",
    "# right tail alpha=0.05, dof=n-1: t.ppf(1-alpha, dof)\n",
    "t_critical = t.ppf(alpha, dof)\n",
    "print(f\"The critical t-value for 95% confidence interval: {t_critical: .2f} \")"
   ]
  },
  {
   "cell_type": "code",
   "execution_count": 184,
   "metadata": {},
   "outputs": [
    {
     "name": "stdout",
     "output_type": "stream",
     "text": [
      "The margin of error is: $ 544.94 \n"
     ]
    }
   ],
   "source": [
    "# Margin of Error: Must be + value for Confidence Interval Test. \n",
    "# moe = critical_value * standard_error\n",
    "# (x-mu)/(s/sqrt(n))\n",
    "standard_error = std_med_charges / (np.sqrt(sample_size))\n",
    "margin_of_error_t = abs(t_critical *  standard_error)\n",
    "print(f\"The margin of error is: $ {margin_of_error_t:.2f} \")"
   ]
  },
  {
   "cell_type": "code",
   "execution_count": 86,
   "metadata": {},
   "outputs": [
    {
     "data": {
      "text/plain": [
       "3.837351719658534"
      ]
     },
     "execution_count": 86,
     "metadata": {},
     "output_type": "execute_result"
    }
   ],
   "source": [
    "t_star=(mean_med_charges-12000)/standard_error\n",
    "t_star"
   ]
  },
  {
   "cell_type": "code",
   "execution_count": 171,
   "metadata": {},
   "outputs": [
    {
     "data": {
      "text/plain": [
       "-0.23011532797500195"
      ]
     },
     "execution_count": 171,
     "metadata": {},
     "output_type": "execute_result"
    }
   ],
   "source": [
    "t_critical"
   ]
  },
  {
   "cell_type": "markdown",
   "metadata": {},
   "source": [
    "### t critical value test"
   ]
  },
  {
   "cell_type": "code",
   "execution_count": 185,
   "metadata": {},
   "outputs": [
    {
     "name": "stdout",
     "output_type": "stream",
     "text": [
      "True, so failed to reject null hypothesis\n"
     ]
    }
   ],
   "source": [
    "# t-value test\n",
    "print(f\"{t_critical < t_star}, so failed to reject null hypothesis\")"
   ]
  },
  {
   "cell_type": "code",
   "execution_count": 186,
   "metadata": {},
   "outputs": [
    {
     "name": "stdout",
     "output_type": "stream",
     "text": [
      "mu_0: $ 12000.00,       \n",
      "lower value for 95% CI: $ 12725.49\n",
      "Since mu_0 falls the outside of 95% confidence interval, the administrator should not worry about medical charges falling below $ 12,000.\n"
     ]
    }
   ],
   "source": [
    "lower_95_t = mean_med_charges - margin_of_error_t\n",
    "upper_95_t = mean_med_charges + margin_of_error_t\n",
    "\n",
    "print(f\"mu_0: $ {12000:.2f}, \\\n",
    "      \\nlower value for 95% CI: $ {lower_95_t:.2f}\")\n",
    "\n",
    "print(f\"Since mu_0 falls the outside of 95% confidence interval, the administrator should not worry about medical charges falling below $ 12,000.\")\n"
   ]
  },
  {
   "cell_type": "markdown",
   "metadata": {},
   "source": [
    "### Confidence Interval test"
   ]
  },
  {
   "cell_type": "code",
   "execution_count": 190,
   "metadata": {},
   "outputs": [
    {
     "data": {
      "image/png": "[encoded data removed]",
      "text/plain": [
       "<Figure size 432x288 with 1 Axes>"
      ]
     },
     "metadata": {},
     "output_type": "display_data"
    }
   ],
   "source": [
    "fig, ax = plt.subplots(1,1, figsize = (6,4))\n",
    "# bin number represents the number of bins (100: 100 bins)\n",
    "ax.hist(medical_charges, bins=100, alpha=0.7) \n",
    "plt.xlabel('medical charges ($)')\n",
    "plt.ylabel('number of people')\n",
    "plt.title('Distribution of medical charges, size of 1338 by **plt**')\n",
    "plt.axvline(12000, color='black', linestyle='-.')\n",
    "plt.axvline(lower_95_t, color='r', linestyle='-')\n",
    "plt.axvline(upper_95_t, color='r', linestyle='-')\n",
    "ax.text(x=mean_med_charges+10,y=50, s='mu_0: 12000', alpha=1.0, color='black')\n",
    "ax.text(x=lower_95_t+3000,y=46, s='t-val: 12725.49', alpha=1.0, color='r')\n",
    "plt.show()"
   ]
  },
  {
   "cell_type": "markdown",
   "metadata": {},
   "source": [
    "The administrator then wants to know whether people with insurance really are charged a different amount to those without. $\\rightarrow$ **Use 'insuranceclaim' column in medical data**\n",
    "\n",
    "__Q4:__ State the null and alternative hypothesis here. Use the _t_-test for the difference between means, where the pooled standard deviation of the two groups is given by:\n",
    "\\begin{equation}\n",
    "s_p = \\sqrt{\\frac{(n_0 - 1)s^2_0 + (n_1 - 1)s^2_1}{n_0 + n_1 - 2}}\n",
    "\\end{equation}\n",
    "\n",
    "and the *t*-test statistic is then given by:\n",
    "\n",
    "\\begin{equation}\n",
    "t = \\frac{\\bar{x}_0 - \\bar{x}_1}{s_p \\sqrt{1/n_0 + 1/n_1}}.\n",
    "\\end{equation}\n",
    "\n",
    "(If you need some reminding of the general definition of ***t-statistic***, check out the definition on p. 404 of *AoS*). \n",
    "\n",
    "What assumption about the variances of the two groups are we making here?"
   ]
  },
  {
   "cell_type": "markdown",
   "metadata": {},
   "source": [
    "__A:__ <font color='red'> \n",
    "Assumption: Variances of the two samples (groups) are the same.<br>\n",
    "$H_0$: there is NO difference in the amount charged between people with insurance and with people without <br> \n",
    "$H_\\alpha$: there IS a difference in the amount charged between the two groups\n",
    "</font>\n",
    " \n",
    "> Check reference: [Statistics How To](https://www.statisticshowto.com/homoscedasticity/), [Ohio University Study Guide pdf]()"
   ]
  },
  {
   "cell_type": "markdown",
   "metadata": {},
   "source": [
    "__Q5:__ Perform this hypothesis test both manually, using the above formulae, and then using the appropriate function from [scipy.stats](https://docs.scipy.org/doc/scipy/reference/stats.html#statistical-tests) (hint, you're looking for a function to perform a _t_-test on two independent samples). For the manual approach, calculate the value of the test statistic and then its probability (the p-value). Verify you get the same results from both."
   ]
  },
  {
   "cell_type": "markdown",
   "metadata": {},
   "source": [
    "__A:__ <font color='red'> \n",
    "Assumption: Variances of the two samples (groups) are the same.<br>\n",
    "$H_0$: there is NO difference in the amount charged between people with insurance and with people without (i.e. $\\$_{ins0} = \\$_{ins1}$) <br> $H_a$: difference in the amount charged between the two groups (i.e. $\\$_{ins0} \\neq \\$_{ins1}$)\n",
    "</font>"
   ]
  },
  {
   "cell_type": "code",
   "execution_count": 127,
   "metadata": {},
   "outputs": [
    {
     "data": {
      "text/plain": [
       "Index(['age', 'sex', 'bmi', 'children', 'smoker', 'region', 'charges',\n",
       "       'insuranceclaim'],\n",
       "      dtype='object')"
      ]
     },
     "execution_count": 127,
     "metadata": {},
     "output_type": "execute_result"
    }
   ],
   "source": [
    "medical.columns"
   ]
  },
  {
   "cell_type": "code",
   "execution_count": 156,
   "metadata": {},
   "outputs": [
    {
     "name": "stdout",
     "output_type": "stream",
     "text": [
      "For insured: $ 13334.58, $ 12273.75\n",
      "For uninsured: $ 13179.90, $ 11885.59\n",
      "13334.584800395916 12273.750078528627\n",
      "13179.901066754957 11885.593812817744\n"
     ]
    }
   ],
   "source": [
    "# separate two groups; insured vs. uninsured. \n",
    "insured = medical['charges'][medical['insuranceclaim'] == 1]  \n",
    "uninsured = medical['charges'][medical['insuranceclaim'] == 0]\n",
    "n_1ins=len(insured)\n",
    "n_0ins=len(uninsured)\n",
    "# Next find the mean and standard deviation for insured (1ins) and uninsured (0ins)\n",
    "mean_1ins = np.mean(insured)\n",
    "std_1ins = np.std(insured, ddof=1)\n",
    "print(f\"For insured: $ {mean_1ins:.2f}, $ {std_1ins:.2f}\")\n",
    "\n",
    "mean_0ins = np.mean(uninsured)\n",
    "std_0ins = np.std(uninsured, ddof=1)\n",
    "print(f\"For uninsured: $ {mean_0ins:.2f}, $ {std_0ins:.2f}\")\n",
    "\n",
    "#################### another method ####################\n",
    "# groupby insurance claim and find the row with(1) or without(0) insurance claims\n",
    "grouped = medical.groupby('insuranceclaim')\n",
    "### Calculating different statistics: \n",
    "# Calculate n (sample size) \n",
    "# (get the first value of the Series) \n",
    "# n0 --> no insurance\n",
    "# n1 --> yes insurance \n",
    "n0 = grouped.count().loc[0][0]\n",
    "n1 = grouped.count().loc[1][0]\n",
    "\n",
    "# Calculate the mean\n",
    "x0 = grouped.mean().loc[0,'charges']\n",
    "x1 = grouped.mean().loc[1,'charges']\n",
    "\n",
    "# Calculate the standard deviation\n",
    "s0 = grouped.std().loc[0,'charges']\n",
    "s1 = grouped.std().loc[1,'charges']\n",
    "\n",
    "# print(x1, s1)\n",
    "# print(x0, s0)"
   ]
  },
  {
   "cell_type": "markdown",
   "metadata": {},
   "source": [
    "\\begin{equation}\n",
    "s_p = \\sqrt{\\frac{(n_0 - 1)s^2_0 + (n_1 - 1)s^2_1}{n_0 + n_1 - 2}}\n",
    "\\end{equation}\n",
    "Where $n_0$: the number of uninsured people (n_0ins), $n_1$= the number of uninsured people (n_1ins), $s_0$: std of charges for uninsured people, $s_1$: std of charges for uninsured people, \n"
   ]
  },
  {
   "cell_type": "code",
   "execution_count": 159,
   "metadata": {},
   "outputs": [
    {
     "name": "stdout",
     "output_type": "stream",
     "text": [
      "Pooled std:  12114.30\n"
     ]
    }
   ],
   "source": [
    "# Calculate pooled std (s_p)\n",
    "nume=(n_0ins-1)*(std_0ins**2)+(n_1ins-1)*(std_1ins**2)\n",
    "denom=n_0ins+n_1ins-2 # (sample_size-2): degree of freedom\n",
    "std_pool = np.sqrt(nume / denom)\n",
    "\n",
    "std_pool\n",
    "print(f\"Pooled std: {std_pool: .2f}\")"
   ]
  },
  {
   "cell_type": "markdown",
   "metadata": {},
   "source": [
    "\\begin{equation}\n",
    "t = \\frac{\\bar{x}_0 - \\bar{x}_1}{s_p \\sqrt{1/n_0 + 1/n_1}}.\n",
    "\\end{equation}\n",
    "Where $\\bar{x}_0$: the mean of uninsured people (mean_0ins), $\\bar{x}_1$= the number of uninsured people (mean_1ins), $n_0$: the number of uninsured people (n_0ins), $n_1$= the number of uninsured people (n_1ins)"
   ]
  },
  {
   "cell_type": "code",
   "execution_count": 180,
   "metadata": {},
   "outputs": [
    {
     "name": "stdout",
     "output_type": "stream",
     "text": [
      "The t* value is: -0.23 \n"
     ]
    }
   ],
   "source": [
    "# Calculate t-statistic\n",
    "# Formula (given above)\n",
    "\n",
    "t_star = (mean_0ins - mean_1ins) / (std_pool * np.sqrt((1/n_0ins) + (1/n_1ins)))\n",
    "print(f\"The t* value is: {t_star:.2f} \")"
   ]
  },
  {
   "cell_type": "markdown",
   "metadata": {},
   "source": [
    "Difference between cdf and ppf\n",
    "1. CDF (Cumulative Distribution Function): <br>\n",
    "args: critical value <br>\n",
    "output: p-value <br>\n",
    "2. PPF (Percentile Point Function): <br>\n",
    "argument: alpha (p-value) <br>\n",
    "output: critical value <br>\n",
    "\n",
    "CDF and PPF have inverse relationship\n",
    "\n",
    "> Check reference: [CDF vs. PPF](http://eric.univ-lyon2.fr/~ricco/tanagra/fichiers/en_Tanagra_Calcul_P_Value.pdf)"
   ]
  },
  {
   "cell_type": "code",
   "execution_count": 181,
   "metadata": {},
   "outputs": [
    {
     "name": "stdout",
     "output_type": "stream",
     "text": [
      "P-value given that the null hypothesis is true is:  0.41\n"
     ]
    }
   ],
   "source": [
    "# Calculating the p-value using the t-statistic from above\n",
    "p_value = t.cdf(t_star, n_0ins+n_1ins-2)\n",
    "p_value\n",
    "print(f\"P-value given that the null hypothesis is true is: {p_value: .2f}\")"
   ]
  },
  {
   "cell_type": "markdown",
   "metadata": {},
   "source": [
    "Using scipy.stats function\n",
    "T-test for two independent samples (equal_var = True by default)\n",
    "\n",
    "> References: [1](https://docs.scipy.org/doc/scipy/reference/generated/scipy.stats.ttest_ind.html#scipy.stats.ttest_ind), [2](https://docs.scipy.org/doc/scipy/reference/generated/scipy.stats.ttest_ind_from_stats.html#scipy.stats.ttest_ind_from_stats)"
   ]
  },
  {
   "cell_type": "code",
   "execution_count": 183,
   "metadata": {},
   "outputs": [
    {
     "name": "stdout",
     "output_type": "stream",
     "text": [
      "By scipy.stats function\n",
      "t_star: -0.23\n",
      "P-value:  0.82\n"
     ]
    }
   ],
   "source": [
    "# ttest_ind_from_stats(mean1, std1, size1, mean2, std2, size2, equal_var=True)\n",
    "\n",
    "t_star_stats, p_val_stats = ttest_ind_from_stats(mean_0ins, std_0ins, n_0ins, mean_1ins, std_1ins, n_1ins, equal_var = True)\n",
    "print(\"By scipy.stats function\")\n",
    "print(f\"t_star: {t_star_stats: .2f}\")\n",
    "print(f\"P-value: {p_val_stats: .2f}\")"
   ]
  },
  {
   "cell_type": "markdown",
   "metadata": {},
   "source": [
    "Conclusion: <font color='red'> We failed to reject $H_0$ <br>\n",
    "where $H_0$: there is NO difference in the amount charged between people with insurance and with people without (i.e. $\\$_{ins0} = \\$_{ins1}$) </font>"
   ]
  },
  {
   "cell_type": "markdown",
   "metadata": {},
   "source": [
    "Congratulations! Hopefully you got the exact same numerical results. This shows that you correctly calculated the numbers by hand. Secondly, you used the correct function and saw that it's much easier to use. All you need to do is pass your data to it."
   ]
  },
  {
   "cell_type": "markdown",
   "metadata": {},
   "source": [
    "__Q6:__ Conceptual question: look through the documentation for statistical test functions in scipy.stats. You'll see the above _t_-test for a sample, but can you see an equivalent one for performing a *z*-test from a sample? Comment on your answer."
   ]
  },
  {
   "cell_type": "markdown",
   "metadata": {},
   "source": [
    "__A:__ <font color='red'> There is no z-test from scipy.stats, but we can define the z-test function to compae two groups.</font>\n",
    "<code>\n",
    "def twoSampZ(X1, X2, mudiff, sd1, sd2, n1, n2):\n",
    "    from numpy import sqrt, abs, round \n",
    "    from scipy.stats import norm \n",
    "    pooledSE = sqrt(sd1**2/n1 + sd2**2/n2) \n",
    "    z = ((X1 - X2) - mudiff)/pooledSE \n",
    "    pval = 2*(1 - norm.cdf(abs(z))) \n",
    "    return round(z, 3), round(pval, 4)\n",
    "</code>\n",
    "> Reference:"
   ]
  },
  {
   "cell_type": "markdown",
   "metadata": {},
   "source": [
    "## Learning outcomes"
   ]
  },
  {
   "cell_type": "markdown",
   "metadata": {},
   "source": [
    "Having completed this project notebook, you now have good hands-on experience:\n",
    "* using the central limit theorem to help you apply frequentist techniques to answer questions that pertain to very non-normally distributed data from the real world\n",
    "* performing inference using such data to answer business questions\n",
    "* forming a hypothesis and framing the null and alternative hypotheses\n",
    "* testing this using a _t_-test"
   ]
  }
 ],
 "metadata": {
  "kernelspec": {
   "display_name": "Python 3",
   "language": "python",
   "name": "python3"
  },
  "language_info": {
   "codemirror_mode": {
    "name": "ipython",
    "version": 3
   },
   "file_extension": ".py",
   "mimetype": "text/x-python",
   "name": "python",
   "nbconvert_exporter": "python",
   "pygments_lexer": "ipython3",
   "version": "3.8.3"
  }
 },
 "nbformat": 4,
 "nbformat_minor": 4
}
