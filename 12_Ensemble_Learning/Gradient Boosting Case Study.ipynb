{
 "cells": [
  {
   "cell_type": "code",
   "execution_count": 1,
   "metadata": {},
   "outputs": [
    {
     "name": "stdout",
     "output_type": "stream",
     "text": [
      "Jae H. Choi 2021-01-01 15:36:41 \n",
      "\n",
      "CPython 3.8.3\n",
      "IPython 7.16.1\n",
      "\n",
      "typing unknown\n"
     ]
    }
   ],
   "source": [
    "# 1. magic to print version\n",
    "# 2. magic so that the notebook will reload external python modules\n",
    "# https://gist.github.com/minrk/3301035\n",
    "%load_ext watermark\n",
    "%load_ext autoreload\n",
    "%autoreload \n",
    "from typing import List\n",
    "%watermark -a 'Jae H. Choi' -d -t -v -p typing"
   ]
  },
  {
   "cell_type": "code",
   "execution_count": 1,
   "metadata": {
    "colab": {},
    "colab_type": "code",
    "id": "DX307zY7Rz8L"
   },
   "outputs": [],
   "source": [
    "import pandas as pd\n",
    "import numpy as np\n",
    "import scipy\n",
    "import matplotlib.pyplot as plt\n",
    "import matplotlib.cm as cmap\n",
    "from matplotlib.colors import ListedColormap, LinearSegmentedColormap\n",
    "import seaborn as sns; sns.set_style(\"whitegrid\")\n",
    "\n",
    "from sklearn import tree\n",
    "from IPython.display import Image\n",
    "%matplotlib inline\n",
    "from sklearn import preprocessing\n",
    "from sklearn.ensemble import GradientBoostingClassifier\n",
    "from sklearn.metrics import (classification_report, \n",
    "                             precision_recall_curve,\n",
    "                             confusion_matrix, \n",
    "                             plot_confusion_matrix,\n",
    "                             roc_curve, auc)\n",
    "\n"
   ]
  },
  {
   "cell_type": "markdown",
   "metadata": {
    "colab_type": "text",
    "id": "IXO1tobzRz8R",
    "run_control": {
     "frozen": false,
     "read_only": false
    }
   },
   "source": [
    "### Gradient boosting\n",
    "\n",
    "You may recall that we last encountered gradients when discussing the gradient descent algorithm in the context of fitting linear regression models.  For a particular regression model with n parameters, an n+1 dimensional space existed defined by all the parameters plus the cost/loss function to minimize.  The combination of parameters and loss function define a surface within the space.  The regression model is fitted by moving down the steepest 'downhill' gradient until we reach the lowest point of the surface, where all possible gradients are 'uphill.'  The final model is made up of the parameter estimates that define that location on the surface.\n",
    "\n",
    "Throughout all iterations of the gradient descent algorithm for linear regression, one thing remains constant: The underlying data used to estimate the parameters and calculate the loss function never changes.  In gradient boosting, however, the underlying data do change.  \n",
    "\n",
    "Each time we run a decision tree, we extract the residuals.  Then we run a new decision tree, using those residuals as the outcome to be predicted.  After reaching a stopping point, we add together the predicted values from all of the decision trees to create the final gradient boosted prediction.\n",
    "\n",
    "Gradient boosting can work on any combination of loss function and model type, as long as we can calculate the derivatives of the loss function with respect to the model parameters.  Most often, however, gradient boosting uses decision trees, and minimizes either the  residual (regression trees) or the negative log-likelihood (classification trees).  \n",
    "\n",
    "Let’s go through a simple regression example using Decision Trees as the base predictors (of course Gradient Boosting also works great with regression tasks). This is called Gradient Tree Boosting, or Gradient Boosted Regression Trees. First, let’s fit a `DecisionTreeRegressor` to the training set."
   ]
  },
  {
   "cell_type": "code",
   "execution_count": 2,
   "metadata": {
    "colab": {},
    "colab_type": "code",
    "id": "gGreKgygRz8R"
   },
   "outputs": [],
   "source": [
    "np.random.seed(42)\n",
    "X = np.random.rand(100, 1) - 0.5\n",
    "y = 3*X[:, 0]**2 + 0.05 * np.random.randn(100)"
   ]
  },
  {
   "cell_type": "code",
   "execution_count": 3,
   "metadata": {
    "colab": {},
    "colab_type": "code",
    "id": "a48uXlSBRz8U",
    "outputId": "f077e2e2-ca97-4aae-987a-176736cc6f1f"
   },
   "outputs": [
    {
     "data": {
      "text/plain": [
       "DecisionTreeRegressor(max_depth=2, random_state=42)"
      ]
     },
     "execution_count": 3,
     "metadata": {},
     "output_type": "execute_result"
    }
   ],
   "source": [
    "from sklearn.tree import DecisionTreeRegressor\n",
    "\n",
    "tree_reg1 = DecisionTreeRegressor(max_depth=2, random_state=42)\n",
    "tree_reg1.fit(X, y)"
   ]
  },
  {
   "cell_type": "markdown",
   "metadata": {
    "colab_type": "text",
    "id": "W3ao2m6RRz8Z"
   },
   "source": [
    "Now train a second `DecisionTreeRegressor` on the residual errors made by the first predictor:"
   ]
  },
  {
   "cell_type": "code",
   "execution_count": 4,
   "metadata": {
    "colab": {},
    "colab_type": "code",
    "id": "j_wMy80MRz8Z",
    "outputId": "41e4143a-5dad-40e7-b816-b08ff7a39799"
   },
   "outputs": [
    {
     "data": {
      "text/plain": [
       "DecisionTreeRegressor(max_depth=2, random_state=42)"
      ]
     },
     "execution_count": 4,
     "metadata": {},
     "output_type": "execute_result"
    }
   ],
   "source": [
    "y2 = y - tree_reg1.predict(X)\n",
    "tree_reg2 = DecisionTreeRegressor(max_depth=2, random_state=42)\n",
    "tree_reg2.fit(X, y2)"
   ]
  },
  {
   "cell_type": "markdown",
   "metadata": {
    "colab_type": "text",
    "id": "T7iraM6-Rz8c"
   },
   "source": [
    "Then we train a third regressor on the residual errors made by the second predictor:\n",
    "\n"
   ]
  },
  {
   "cell_type": "code",
   "execution_count": 5,
   "metadata": {
    "colab": {},
    "colab_type": "code",
    "id": "luWV0lZGRz8c",
    "outputId": "53ef51ac-8293-4c24-b403-853320cdd4a7"
   },
   "outputs": [
    {
     "data": {
      "text/plain": [
       "DecisionTreeRegressor(max_depth=2, random_state=42)"
      ]
     },
     "execution_count": 5,
     "metadata": {},
     "output_type": "execute_result"
    }
   ],
   "source": [
    "y3 = y2 - tree_reg2.predict(X)\n",
    "tree_reg3 = DecisionTreeRegressor(max_depth=2, random_state=42)\n",
    "tree_reg3.fit(X, y3)"
   ]
  },
  {
   "cell_type": "markdown",
   "metadata": {
    "colab_type": "text",
    "id": "hNqDI9AcRz8g"
   },
   "source": [
    "Now we have an ensemble containing three trees. It can make predictions on a new instance simply by adding up the predictions of all the trees:"
   ]
  },
  {
   "cell_type": "code",
   "execution_count": 6,
   "metadata": {
    "colab": {},
    "colab_type": "code",
    "id": "5UxW0hN1Rz8g"
   },
   "outputs": [],
   "source": [
    "X_new = np.array([[0.8]])\n"
   ]
  },
  {
   "cell_type": "code",
   "execution_count": 7,
   "metadata": {
    "colab": {},
    "colab_type": "code",
    "id": "2O_e-UpZRz8j"
   },
   "outputs": [],
   "source": [
    "y_pred = sum(tree.predict(X_new) for tree in (tree_reg1, tree_reg2, tree_reg3))\n"
   ]
  },
  {
   "cell_type": "code",
   "execution_count": 8,
   "metadata": {
    "colab": {},
    "colab_type": "code",
    "id": "TKw9-uOJRz8m",
    "outputId": "2d615aee-f854-489a-e517-d8fbc7d1ea48"
   },
   "outputs": [
    {
     "data": {
      "text/plain": [
       "array([0.75026781])"
      ]
     },
     "execution_count": 8,
     "metadata": {},
     "output_type": "execute_result"
    }
   ],
   "source": [
    "y_pred\n"
   ]
  },
  {
   "cell_type": "markdown",
   "metadata": {
    "colab_type": "text",
    "id": "PlbPjAa1Rz8o"
   },
   "source": [
    "The figure below represents the predictions of these three trees in the left column, and the ensemble’s predictions in the right column. In the first row, the ensemble has just one tree, so its predictions are exactly the same as the first tree’s predictions. In the second row, a new tree is trained on the residual errors of the first tree. On the right you can see that the ensemble’s predictions are equal to the sum of the predictions of the first two trees. Similarly, in the third row another tree is trained on the residual errors of the second tree. You can see that the ensemble’s predictions gradually get better as trees are added to the ensemble."
   ]
  },
  {
   "cell_type": "markdown",
   "metadata": {
    "colab_type": "text",
    "id": "WRMKci30Rz8p",
    "tags": []
   },
   "source": [
    "**<font color='teal'>Run the below cell to develop a visual representation.</font>**"
   ]
  },
  {
   "cell_type": "code",
   "execution_count": 9,
   "metadata": {
    "colab": {},
    "colab_type": "code",
    "id": "gbuQDXNWRz8p",
    "outputId": "62b85e30-cc06-4585-bd8f-860924249c53",
    "tags": []
   },
   "outputs": [
    {
     "data": {
      "image/png": "[encoded data removed]",
      "text/plain": [
       "<Figure size 792x792 with 6 Axes>"
      ]
     },
     "metadata": {
      "needs_background": "light"
     },
     "output_type": "display_data"
    }
   ],
   "source": [
    "def plot_predictions(regressors, X, y, axes, label=None, style=\"r-\", data_style=\"b.\", data_label=None):\n",
    "    x1 = np.linspace(axes[0], axes[1], 500)\n",
    "    y_pred = sum(regressor.predict(x1.reshape(-1, 1)) for regressor in regressors)\n",
    "    plt.plot(X[:, 0], y, data_style, label=data_label)\n",
    "    plt.plot(x1, y_pred, style, linewidth=2, label=label)\n",
    "    if label or data_label:\n",
    "        plt.legend(loc=\"upper center\", fontsize=16)\n",
    "    plt.axis(axes)\n",
    "\n",
    "plt.figure(figsize=(11,11))\n",
    "\n",
    "plt.subplot(321)\n",
    "plot_predictions([tree_reg1], X, y, axes=[-0.5, 0.5, -0.1, 0.8], label=\"$h_1(x_1)$\", style=\"g-\", data_label=\"Training set\")\n",
    "plt.ylabel(\"$y$\", fontsize=16, rotation=0)\n",
    "plt.title(\"Residuals and tree predictions\", fontsize=16)\n",
    "\n",
    "plt.subplot(322)\n",
    "plot_predictions([tree_reg1], X, y, axes=[-0.5, 0.5, -0.1, 0.8], label=\"$h(x_1) = h_1(x_1)$\", data_label=\"Training set\")\n",
    "plt.ylabel(\"$y$\", fontsize=16, rotation=0)\n",
    "plt.title(\"Ensemble predictions\", fontsize=16)\n",
    "\n",
    "plt.subplot(323)\n",
    "plot_predictions([tree_reg2], X, y2, axes=[-0.5, 0.5, -0.5, 0.5], label=\"$h_2(x_1)$\", style=\"g-\", data_style=\"k+\", data_label=\"Residuals\")\n",
    "plt.ylabel(\"$y - h_1(x_1)$\", fontsize=16)\n",
    "\n",
    "plt.subplot(324)\n",
    "plot_predictions([tree_reg1, tree_reg2], X, y, axes=[-0.5, 0.5, -0.1, 0.8], label=\"$h(x_1) = h_1(x_1) + h_2(x_1)$\")\n",
    "plt.ylabel(\"$y$\", fontsize=16, rotation=0)\n",
    "\n",
    "plt.subplot(325)\n",
    "plot_predictions([tree_reg3], X, y3, axes=[-0.5, 0.5, -0.5, 0.5], label=\"$h_3(x_1)$\", style=\"g-\", data_style=\"k+\")\n",
    "plt.ylabel(\"$y - h_1(x_1) - h_2(x_1)$\", fontsize=16)\n",
    "plt.xlabel(\"$x_1$\", fontsize=16)\n",
    "\n",
    "plt.subplot(326)\n",
    "plot_predictions([tree_reg1, tree_reg2, tree_reg3], X, y, axes=[-0.5, 0.5, -0.1, 0.8], label=\"$h(x_1) = h_1(x_1) + h_2(x_1) + h_3(x_1)$\")\n",
    "plt.xlabel(\"$x_1$\", fontsize=16)\n",
    "plt.ylabel(\"$y$\", fontsize=16, rotation=0)\n",
    "\n",
    "#save_fig(\"gradient_boosting_plot\")\n",
    "plt.show()"
   ]
  },
  {
   "cell_type": "markdown",
   "metadata": {
    "colab_type": "text",
    "id": "9dsMW-TCRz8s"
   },
   "source": [
    "Now that you have solid understanding of Gradient Boosting in the regression scenario, let's apply the same algorithm to a classification problem. Specifically, the Titanic dataset and predicting survival."
   ]
  },
  {
   "cell_type": "markdown",
   "metadata": {
    "colab_type": "text",
    "id": "oaIC-pukRz8s",
    "tags": []
   },
   "source": [
    "**<font color='teal'>Use pandas read csv to load in the Titantic data set into a dataframe called df.</font>**\n",
    "\n",
    "Hint: in this case you can use [dropna()](https://pandas.pydata.org/pandas-docs/stable/reference/api/pandas.DataFrame.dropna.html) to just throw away any incomplete rows. For the purpose of this exercise we will disregard them but obviously in the real world you need to be much more careful and decide how to handle incomplete observations. "
   ]
  },
  {
   "cell_type": "code",
   "execution_count": 10,
   "metadata": {
    "colab": {},
    "colab_type": "code",
    "id": "2MG_oc_cRz8s"
   },
   "outputs": [
    {
     "name": "stdout",
     "output_type": "stream",
     "text": [
      "<class 'pandas.core.frame.DataFrame'>\n",
      "RangeIndex: 891 entries, 0 to 890\n",
      "Data columns (total 12 columns):\n",
      " #   Column       Non-Null Count  Dtype  \n",
      "---  ------       --------------  -----  \n",
      " 0   PassengerId  891 non-null    int64  \n",
      " 1   Survived     891 non-null    int64  \n",
      " 2   Pclass       891 non-null    int64  \n",
      " 3   Name         891 non-null    object \n",
      " 4   Sex          891 non-null    object \n",
      " 5   Age          714 non-null    float64\n",
      " 6   SibSp        891 non-null    int64  \n",
      " 7   Parch        891 non-null    int64  \n",
      " 8   Ticket       891 non-null    object \n",
      " 9   Fare         891 non-null    float64\n",
      " 10  Cabin        204 non-null    object \n",
      " 11  Embarked     889 non-null    object \n",
      "dtypes: float64(2), int64(5), object(5)\n",
      "memory usage: 83.7+ KB\n"
     ]
    }
   ],
   "source": [
    "df = pd.read_csv(\"./titanic.csv\")\n",
    "df.info()"
   ]
  },
  {
   "cell_type": "code",
   "execution_count": 11,
   "metadata": {},
   "outputs": [
    {
     "name": "stdout",
     "output_type": "stream",
     "text": [
      "PassengerId's missing values: 0.00 %\n",
      "Survived's missing values: 0.00 %\n",
      "Pclass's missing values: 0.00 %\n",
      "Name's missing values: 0.00 %\n",
      "Sex's missing values: 0.00 %\n",
      "Age's missing values: 19.87 %\n",
      "SibSp's missing values: 0.00 %\n",
      "Parch's missing values: 0.00 %\n",
      "Ticket's missing values: 0.00 %\n",
      "Fare's missing values: 0.00 %\n",
      "Cabin's missing values: 77.10 %\n",
      "Embarked's missing values: 0.22 %\n"
     ]
    },
    {
     "data": {
      "image/png": "[encoded data removed]",
      "text/plain": [
       "<Figure size 432x288 with 1 Axes>"
      ]
     },
     "metadata": {
      "needs_background": "light"
     },
     "output_type": "display_data"
    }
   ],
   "source": [
    "\n",
    "column_names = df.columns\n",
    "null_cols=[]\n",
    "total_length=len(df)\n",
    "for column in column_names:\n",
    "    missing_counts=df[column].isnull().sum()\n",
    "    print(f\"{column}'s missing values: {missing_counts/total_length*100:.2f} %\")\n",
    "    null_cols.append(missing_counts)\n",
    "\n",
    "fig,ax=plt.subplots(1,1,figsize=(6,4))\n",
    "ax=df.isnull().sum().plot(kind='bar',color='teal',  alpha=0.5)\n",
    "\n",
    "for p, val in zip(ax.patches,null_cols):\n",
    "    x=p.get_x()\n",
    "    y=p.get_y()+val\n",
    "    ax.annotate(y,(x,y))\n",
    "plt.title('Null Counts')\n",
    "plt.show()"
   ]
  },
  {
   "cell_type": "markdown",
   "metadata": {},
   "source": [
    "Missing columns are \"Age\" (numeric), \"Cabin\" (categorical), and \"Embarked\" (categorical). \n",
    "- \"Age\" can be filled with either median or mean, depending on data distribution (histogram).\n",
    "- \"Cabin\" contains categorical values and is missing over 75%, so it would be discarded.\n",
    "- \"Embarked\" can be filled with most common value. "
   ]
  },
  {
   "cell_type": "markdown",
   "metadata": {},
   "source": [
    "#### \"Age\" Imputation"
   ]
  },
  {
   "cell_type": "code",
   "execution_count": 12,
   "metadata": {},
   "outputs": [
    {
     "data": {
      "image/png": "[encoded data removed]",
      "text/plain": [
       "<Figure size 432x288 with 1 Axes>"
      ]
     },
     "metadata": {
      "needs_background": "light"
     },
     "output_type": "display_data"
    }
   ],
   "source": [
    "fig,ax=plt.subplots(1,1,figsize=(6,4))\n",
    "ax = df[\"Age\"].hist(bins=15, density=True, stacked=True, color='teal', alpha=0.5)\n",
    "df[\"Age\"].plot(kind='density', color='teal')\n",
    "ax.set(xlabel='Age')\n",
    "plt.show()"
   ]
  },
  {
   "cell_type": "markdown",
   "metadata": {},
   "source": [
    "because Since \"Age\" is (right) skewed, using the mean might give us biased results by filling in ages that are older than desired. To deal with this, using median is a better decision to impute the missing values."
   ]
  },
  {
   "cell_type": "code",
   "execution_count": 13,
   "metadata": {},
   "outputs": [
    {
     "name": "stdout",
     "output_type": "stream",
     "text": [
      "The median of \"Age\" is 28.00\n"
     ]
    }
   ],
   "source": [
    "# median age\n",
    "age_median = df[\"Age\"].median(skipna=True)\n",
    "print(f'The median of \"Age\" is {age_median:.2f}')"
   ]
  },
  {
   "cell_type": "code",
   "execution_count": 14,
   "metadata": {},
   "outputs": [],
   "source": [
    "# replace median value\n",
    "df[\"Age\"].fillna(age_median, inplace=True)"
   ]
  },
  {
   "cell_type": "markdown",
   "metadata": {},
   "source": [
    "#### \"Cabin\" Imputation"
   ]
  },
  {
   "cell_type": "code",
   "execution_count": 15,
   "metadata": {},
   "outputs": [
    {
     "data": {
      "text/plain": [
       "Index(['PassengerId', 'Survived', 'Pclass', 'Name', 'Sex', 'Age', 'SibSp',\n",
       "       'Parch', 'Ticket', 'Fare', 'Embarked'],\n",
       "      dtype='object')"
      ]
     },
     "execution_count": 15,
     "metadata": {},
     "output_type": "execute_result"
    }
   ],
   "source": [
    "# drop columns\n",
    "df.drop(columns=['Cabin'], inplace=True)\n",
    "# check remained columns\n",
    "df.columns"
   ]
  },
  {
   "cell_type": "markdown",
   "metadata": {},
   "source": [
    "#### \"Embarked\" Imputation"
   ]
  },
  {
   "cell_type": "code",
   "execution_count": 16,
   "metadata": {},
   "outputs": [
    {
     "name": "stdout",
     "output_type": "stream",
     "text": [
      "## Boarded passengers grouped by port of embarkation \n",
      "## where (C = Cherbourg, Q = Queenstown, S = Southampton):\n",
      "S    644\n",
      "C    168\n",
      "Q     77\n",
      "Name: Embarked, dtype: int64\n"
     ]
    }
   ],
   "source": [
    "# count values\n",
    "print('## Boarded passengers grouped by port of embarkation \\n## where (C = Cherbourg, Q = Queenstown, S = Southampton):')\n",
    "embarked_counts=df['Embarked'].value_counts()\n",
    "print(embarked_counts)\n"
   ]
  },
  {
   "cell_type": "code",
   "execution_count": 17,
   "metadata": {},
   "outputs": [
    {
     "data": {
      "image/png": "[encoded data removed]",
      "text/plain": [
       "<Figure size 432x288 with 1 Axes>"
      ]
     },
     "metadata": {
      "needs_background": "light"
     },
     "output_type": "display_data"
    }
   ],
   "source": [
    "# create my own colormap\n",
    "colors = [\"tomato\", \"teal\", \"gray\"]\n",
    "\n",
    "fig,ax=plt.subplots(1,1,figsize=(6,4))\n",
    "ax=sns.countplot(x='Embarked', data=df, palette=colors, alpha=0.5)\n",
    "\n",
    "for p, val in zip(ax.patches,embarked_counts):\n",
    "    x=p.get_x()+p.get_width()/2.5\n",
    "    y=p.get_y()+val\n",
    "    ax.annotate(y,(x,y))\n",
    "    \n",
    "plt.show()"
   ]
  },
  {
   "cell_type": "code",
   "execution_count": 18,
   "metadata": {},
   "outputs": [],
   "source": [
    "# replace mod value\n",
    "most_common_embarked_value=df['Embarked'].value_counts().idxmax()\n",
    "df[\"Embarked\"].fillna(most_common_embarked_value, inplace=True)\n"
   ]
  },
  {
   "cell_type": "code",
   "execution_count": 19,
   "metadata": {},
   "outputs": [
    {
     "name": "stdout",
     "output_type": "stream",
     "text": [
      "<class 'pandas.core.frame.DataFrame'>\n",
      "RangeIndex: 891 entries, 0 to 890\n",
      "Data columns (total 11 columns):\n",
      " #   Column       Non-Null Count  Dtype  \n",
      "---  ------       --------------  -----  \n",
      " 0   PassengerId  891 non-null    int64  \n",
      " 1   Survived     891 non-null    int64  \n",
      " 2   Pclass       891 non-null    int64  \n",
      " 3   Name         891 non-null    object \n",
      " 4   Sex          891 non-null    object \n",
      " 5   Age          891 non-null    float64\n",
      " 6   SibSp        891 non-null    int64  \n",
      " 7   Parch        891 non-null    int64  \n",
      " 8   Ticket       891 non-null    object \n",
      " 9   Fare         891 non-null    float64\n",
      " 10  Embarked     891 non-null    object \n",
      "dtypes: float64(2), int64(5), object(4)\n",
      "memory usage: 76.7+ KB\n"
     ]
    }
   ],
   "source": [
    "# check nulls\n",
    "df.info()"
   ]
  },
  {
   "cell_type": "markdown",
   "metadata": {
    "colab_type": "text",
    "id": "zLvRIfuSRz8w",
    "tags": []
   },
   "source": [
    "**<font color='teal'>Print the levels of the categorical data using 'select_dtypes'. </font>**"
   ]
  },
  {
   "cell_type": "code",
   "execution_count": 20,
   "metadata": {
    "colab": {},
    "colab_type": "code",
    "id": "RmwDwRljRz8x"
   },
   "outputs": [
    {
     "data": {
      "text/plain": [
       "PassengerId      int64\n",
       "Survived         int64\n",
       "Pclass           int64\n",
       "Name            object\n",
       "Sex             object\n",
       "Age            float64\n",
       "SibSp            int64\n",
       "Parch            int64\n",
       "Ticket          object\n",
       "Fare           float64\n",
       "Embarked        object\n",
       "dtype: object"
      ]
     },
     "execution_count": 20,
     "metadata": {},
     "output_type": "execute_result"
    }
   ],
   "source": [
    "df.dtypes"
   ]
  },
  {
   "cell_type": "code",
   "execution_count": 21,
   "metadata": {},
   "outputs": [
    {
     "name": "stdout",
     "output_type": "stream",
     "text": [
      "Categorical Columns: ['Name' 'Sex' 'Ticket' 'Embarked']\n",
      "Numerical Columns: ['PassengerId' 'Survived' 'Pclass' 'Age' 'SibSp' 'Parch' 'Fare']\n"
     ]
    }
   ],
   "source": [
    "categ_df = df.select_dtypes(include='object')\n",
    "print(f\"Categorical Columns: {categ_df.columns.values}\")\n",
    "numer_df = df.select_dtypes(exclude='object')\n",
    "print(f\"Numerical Columns: {numer_df.columns.values}\")"
   ]
  },
  {
   "cell_type": "markdown",
   "metadata": {
    "colab_type": "text",
    "id": "D07cr6M5Rz8z",
    "tags": []
   },
   "source": [
    "**<font color='teal'>Create dummy features for the categorical features and add those to the 'df' dataframe. Make sure to also remove the original categorical columns from the dataframe.</font>**"
   ]
  },
  {
   "cell_type": "code",
   "execution_count": 22,
   "metadata": {
    "colab": {},
    "colab_type": "code",
    "id": "vPF6cbioRz8z"
   },
   "outputs": [
    {
     "name": "stdout",
     "output_type": "stream",
     "text": [
      "(891, 11)\n"
     ]
    },
    {
     "data": {
      "text/html": [
       "<div>\n",
       "<style scoped>\n",
       "    .dataframe tbody tr th:only-of-type {\n",
       "        vertical-align: middle;\n",
       "    }\n",
       "\n",
       "    .dataframe tbody tr th {\n",
       "        vertical-align: top;\n",
       "    }\n",
       "\n",
       "    .dataframe thead th {\n",
       "        text-align: right;\n",
       "    }\n",
       "</style>\n",
       "<table border=\"1\" class=\"dataframe\">\n",
       "  <thead>\n",
       "    <tr style=\"text-align: right;\">\n",
       "      <th></th>\n",
       "      <th>Survived</th>\n",
       "      <th>Pclass</th>\n",
       "      <th>Age</th>\n",
       "      <th>SibSp</th>\n",
       "      <th>Parch</th>\n",
       "      <th>Fare</th>\n",
       "      <th>Sex_female</th>\n",
       "      <th>Sex_male</th>\n",
       "      <th>Embarked_C</th>\n",
       "      <th>Embarked_Q</th>\n",
       "      <th>Embarked_S</th>\n",
       "    </tr>\n",
       "  </thead>\n",
       "  <tbody>\n",
       "    <tr>\n",
       "      <th>0</th>\n",
       "      <td>0</td>\n",
       "      <td>3</td>\n",
       "      <td>22.0</td>\n",
       "      <td>1</td>\n",
       "      <td>0</td>\n",
       "      <td>7.2500</td>\n",
       "      <td>0</td>\n",
       "      <td>1</td>\n",
       "      <td>0</td>\n",
       "      <td>0</td>\n",
       "      <td>1</td>\n",
       "    </tr>\n",
       "    <tr>\n",
       "      <th>1</th>\n",
       "      <td>1</td>\n",
       "      <td>1</td>\n",
       "      <td>38.0</td>\n",
       "      <td>1</td>\n",
       "      <td>0</td>\n",
       "      <td>71.2833</td>\n",
       "      <td>1</td>\n",
       "      <td>0</td>\n",
       "      <td>1</td>\n",
       "      <td>0</td>\n",
       "      <td>0</td>\n",
       "    </tr>\n",
       "    <tr>\n",
       "      <th>2</th>\n",
       "      <td>1</td>\n",
       "      <td>3</td>\n",
       "      <td>26.0</td>\n",
       "      <td>0</td>\n",
       "      <td>0</td>\n",
       "      <td>7.9250</td>\n",
       "      <td>1</td>\n",
       "      <td>0</td>\n",
       "      <td>0</td>\n",
       "      <td>0</td>\n",
       "      <td>1</td>\n",
       "    </tr>\n",
       "    <tr>\n",
       "      <th>3</th>\n",
       "      <td>1</td>\n",
       "      <td>1</td>\n",
       "      <td>35.0</td>\n",
       "      <td>1</td>\n",
       "      <td>0</td>\n",
       "      <td>53.1000</td>\n",
       "      <td>1</td>\n",
       "      <td>0</td>\n",
       "      <td>0</td>\n",
       "      <td>0</td>\n",
       "      <td>1</td>\n",
       "    </tr>\n",
       "    <tr>\n",
       "      <th>4</th>\n",
       "      <td>0</td>\n",
       "      <td>3</td>\n",
       "      <td>35.0</td>\n",
       "      <td>0</td>\n",
       "      <td>0</td>\n",
       "      <td>8.0500</td>\n",
       "      <td>0</td>\n",
       "      <td>1</td>\n",
       "      <td>0</td>\n",
       "      <td>0</td>\n",
       "      <td>1</td>\n",
       "    </tr>\n",
       "  </tbody>\n",
       "</table>\n",
       "</div>"
      ],
      "text/plain": [
       "   Survived  Pclass   Age  SibSp  Parch     Fare  Sex_female  Sex_male  \\\n",
       "0         0       3  22.0      1      0   7.2500           0         1   \n",
       "1         1       1  38.0      1      0  71.2833           1         0   \n",
       "2         1       3  26.0      0      0   7.9250           1         0   \n",
       "3         1       1  35.0      1      0  53.1000           1         0   \n",
       "4         0       3  35.0      0      0   8.0500           0         1   \n",
       "\n",
       "   Embarked_C  Embarked_Q  Embarked_S  \n",
       "0           0           0           1  \n",
       "1           1           0           0  \n",
       "2           0           0           1  \n",
       "3           0           0           1  \n",
       "4           0           0           1  "
      ]
     },
     "execution_count": 22,
     "metadata": {},
     "output_type": "execute_result"
    }
   ],
   "source": [
    "# Drop \"Name\", \"Ticket\" from Categ and Drop \"PassengerId\" from Numer\n",
    "# Transform categorical data to dummy values. \n",
    "transformed_df = pd.DataFrame(df.drop(categ_df.columns,axis =1)).merge(pd.get_dummies(categ_df.drop(['Name','Ticket'],axis =1)),left_index=True,right_index=True).drop(['PassengerId'],axis =1)\n",
    "print(transformed_df.shape)\n",
    "transformed_df.head()"
   ]
  },
  {
   "cell_type": "markdown",
   "metadata": {
    "colab_type": "text",
    "id": "8kU862wQRz82",
    "tags": []
   },
   "source": [
    "**<font color='teal'>Print the null values for each column in the dataframe.</font>**"
   ]
  },
  {
   "cell_type": "code",
   "execution_count": 23,
   "metadata": {
    "colab": {},
    "colab_type": "code",
    "id": "ZV2mKhf_Rz82"
   },
   "outputs": [
    {
     "name": "stdout",
     "output_type": "stream",
     "text": [
      "<class 'pandas.core.frame.DataFrame'>\n",
      "RangeIndex: 891 entries, 0 to 890\n",
      "Data columns (total 11 columns):\n",
      " #   Column      Non-Null Count  Dtype  \n",
      "---  ------      --------------  -----  \n",
      " 0   Survived    891 non-null    int64  \n",
      " 1   Pclass      891 non-null    int64  \n",
      " 2   Age         891 non-null    float64\n",
      " 3   SibSp       891 non-null    int64  \n",
      " 4   Parch       891 non-null    int64  \n",
      " 5   Fare        891 non-null    float64\n",
      " 6   Sex_female  891 non-null    uint8  \n",
      " 7   Sex_male    891 non-null    uint8  \n",
      " 8   Embarked_C  891 non-null    uint8  \n",
      " 9   Embarked_Q  891 non-null    uint8  \n",
      " 10  Embarked_S  891 non-null    uint8  \n",
      "dtypes: float64(2), int64(4), uint8(5)\n",
      "memory usage: 46.2 KB\n"
     ]
    }
   ],
   "source": [
    "transformed_df.info()"
   ]
  },
  {
   "cell_type": "markdown",
   "metadata": {
    "colab_type": "text",
    "id": "zsDK9CraRz85",
    "tags": []
   },
   "source": [
    "**<font color='teal'>Create the X and y matrices from the dataframe, where y = df.Survived </font>**"
   ]
  },
  {
   "cell_type": "code",
   "execution_count": 24,
   "metadata": {
    "colab": {},
    "colab_type": "code",
    "id": "dle4w3vRRz85"
   },
   "outputs": [
    {
     "data": {
      "text/plain": [
       "Index(['Pclass', 'Age', 'SibSp', 'Parch', 'Fare', 'Sex_female', 'Sex_male',\n",
       "       'Embarked_C', 'Embarked_Q', 'Embarked_S'],\n",
       "      dtype='object')"
      ]
     },
     "execution_count": 24,
     "metadata": {},
     "output_type": "execute_result"
    }
   ],
   "source": [
    "X =transformed_df.loc[:, ~transformed_df.columns.isin(['Survived'])]\n",
    "y =transformed_df['Survived']\n",
    "X.columns"
   ]
  },
  {
   "cell_type": "markdown",
   "metadata": {
    "colab_type": "text",
    "id": "lT_yoTjtRz88",
    "tags": []
   },
   "source": [
    "**<font color='teal'>Apply the standard scaler to the X matrix.</font>**"
   ]
  },
  {
   "cell_type": "code",
   "execution_count": 25,
   "metadata": {
    "colab": {},
    "colab_type": "code",
    "id": "c8VoJndnRz88"
   },
   "outputs": [],
   "source": [
    "# transform numerical values\n",
    "scaler = preprocessing.StandardScaler().fit(X)\n",
    "X_scaled = scaler.transform(X)\n"
   ]
  },
  {
   "cell_type": "markdown",
   "metadata": {
    "colab_type": "text",
    "id": "-59l61rsRz9A",
    "tags": []
   },
   "source": [
    "**<font color='teal'>Split the X_scaled and y into 75/25 training and testing data subsets..</font>**"
   ]
  },
  {
   "cell_type": "code",
   "execution_count": 26,
   "metadata": {
    "colab": {},
    "colab_type": "code",
    "id": "rJZsUA0xRz9A"
   },
   "outputs": [],
   "source": [
    "from sklearn.model_selection import train_test_split\n",
    "X_train, X_test, y_train, y_test = train_test_split(X_scaled, y, test_size=0.25, random_state=0)\n"
   ]
  },
  {
   "cell_type": "markdown",
   "metadata": {
    "colab_type": "text",
    "id": "wTZIpc_KRz9C",
    "tags": []
   },
   "source": [
    "**<font color='teal'>Run the cell below to test multiple learning rates in your gradient boosting classifier.</font>**"
   ]
  },
  {
   "cell_type": "code",
   "execution_count": 27,
   "metadata": {
    "colab": {},
    "colab_type": "code",
    "id": "4ipqTcZPRz9D"
   },
   "outputs": [
    {
     "name": "stdout",
     "output_type": "stream",
     "text": [
      "Learning rate:  0.05\n",
      "Accuracy score (training): 0.813\n",
      "Accuracy score (validation): 0.816\n",
      "\n",
      "Learning rate:  0.1\n",
      "Accuracy score (training): 0.816\n",
      "Accuracy score (validation): 0.789\n",
      "\n",
      "Learning rate:  0.25\n",
      "Accuracy score (training): 0.832\n",
      "Accuracy score (validation): 0.798\n",
      "\n",
      "Learning rate:  0.5\n",
      "Accuracy score (training): 0.846\n",
      "Accuracy score (validation): 0.807\n",
      "\n",
      "Learning rate:  0.75\n",
      "Accuracy score (training): 0.844\n",
      "Accuracy score (validation): 0.807\n",
      "\n",
      "Learning rate:  1\n",
      "Accuracy score (training): 0.846\n",
      "Accuracy score (validation): 0.803\n",
      "\n"
     ]
    }
   ],
   "source": [
    "learning_rates = [0.05, 0.1, 0.25, 0.5, 0.75, 1]\n",
    "for learning_rate in learning_rates:\n",
    "    gb = GradientBoostingClassifier(n_estimators=20, learning_rate = learning_rate, max_features=2, max_depth = 2, random_state = 0)\n",
    "    gb.fit(X_train, y_train)\n",
    "    print(\"Learning rate: \", learning_rate)\n",
    "    print(\"Accuracy score (training): {0:.3f}\".format(gb.score(X_train, y_train)))\n",
    "    print(\"Accuracy score (validation): {0:.3f}\".format(gb.score(X_test, y_test)))\n",
    "    print()"
   ]
  },
  {
   "cell_type": "markdown",
   "metadata": {},
   "source": [
    "**<font color='teal'>Apply the best learning rate to the model fit and predict on the testing set. Print out the confusion matrix and the classification report to review the model performance.</font>**"
   ]
  },
  {
   "cell_type": "code",
   "execution_count": 28,
   "metadata": {},
   "outputs": [
    {
     "name": "stdout",
     "output_type": "stream",
     "text": [
      "Best: 0.811592 using {'learning_rate': 0.1, 'max_depth': 2, 'n_estimators': 20}\n",
      "0.784685 (0.019779) with: {'learning_rate': 0.1, 'max_depth': 2, 'n_estimators': 10}\n",
      "0.811592 (0.019686) with: {'learning_rate': 0.1, 'max_depth': 2, 'n_estimators': 20}\n",
      "0.789069 (0.028784) with: {'learning_rate': 0.1, 'max_depth': 2, 'n_estimators': 40}\n",
      "0.784685 (0.012154) with: {'learning_rate': 0.1, 'max_depth': 2, 'n_estimators': 60}\n",
      "0.789189 (0.013423) with: {'learning_rate': 0.1, 'max_depth': 2, 'n_estimators': 80}\n",
      "0.789129 (0.023808) with: {'learning_rate': 0.1, 'max_depth': 2, 'n_estimators': 100}\n",
      "0.798138 (0.012078) with: {'learning_rate': 0.1, 'max_depth': 3, 'n_estimators': 10}\n",
      "0.798078 (0.023030) with: {'learning_rate': 0.1, 'max_depth': 3, 'n_estimators': 20}\n",
      "0.793574 (0.024042) with: {'learning_rate': 0.1, 'max_depth': 3, 'n_estimators': 40}\n",
      "0.807087 (0.017704) with: {'learning_rate': 0.1, 'max_depth': 3, 'n_estimators': 60}\n",
      "0.802703 (0.016661) with: {'learning_rate': 0.1, 'max_depth': 3, 'n_estimators': 80}\n",
      "0.798258 (0.018469) with: {'learning_rate': 0.1, 'max_depth': 3, 'n_estimators': 100}\n",
      "0.793694 (0.007094) with: {'learning_rate': 0.1, 'max_depth': 4, 'n_estimators': 10}\n",
      "0.793754 (0.012118) with: {'learning_rate': 0.1, 'max_depth': 4, 'n_estimators': 20}\n",
      "0.802703 (0.016661) with: {'learning_rate': 0.1, 'max_depth': 4, 'n_estimators': 40}\n",
      "0.789309 (0.015791) with: {'learning_rate': 0.1, 'max_depth': 4, 'n_estimators': 60}\n",
      "0.780300 (0.004926) with: {'learning_rate': 0.1, 'max_depth': 4, 'n_estimators': 80}\n",
      "0.793694 (0.007094) with: {'learning_rate': 0.1, 'max_depth': 4, 'n_estimators': 100}\n",
      "0.784625 (0.020300) with: {'learning_rate': 0.5, 'max_depth': 2, 'n_estimators': 10}\n",
      "0.775556 (0.039750) with: {'learning_rate': 0.5, 'max_depth': 2, 'n_estimators': 20}\n",
      "0.780120 (0.024125) with: {'learning_rate': 0.5, 'max_depth': 2, 'n_estimators': 40}\n",
      "0.775736 (0.007729) with: {'learning_rate': 0.5, 'max_depth': 2, 'n_estimators': 60}\n",
      "0.775736 (0.007729) with: {'learning_rate': 0.5, 'max_depth': 2, 'n_estimators': 80}\n",
      "0.793634 (0.017770) with: {'learning_rate': 0.5, 'max_depth': 2, 'n_estimators': 100}\n",
      "0.784685 (0.012154) with: {'learning_rate': 0.5, 'max_depth': 3, 'n_estimators': 10}\n",
      "0.784805 (0.018431) with: {'learning_rate': 0.5, 'max_depth': 3, 'n_estimators': 20}\n",
      "0.775796 (0.005785) with: {'learning_rate': 0.5, 'max_depth': 3, 'n_estimators': 40}\n",
      "0.789129 (0.017982) with: {'learning_rate': 0.5, 'max_depth': 3, 'n_estimators': 60}\n",
      "0.784685 (0.012154) with: {'learning_rate': 0.5, 'max_depth': 3, 'n_estimators': 80}\n",
      "0.780180 (0.014015) with: {'learning_rate': 0.5, 'max_depth': 3, 'n_estimators': 100}\n",
      "0.784805 (0.009810) with: {'learning_rate': 0.5, 'max_depth': 4, 'n_estimators': 10}\n",
      "0.762402 (0.011127) with: {'learning_rate': 0.5, 'max_depth': 4, 'n_estimators': 20}\n",
      "0.775676 (0.018063) with: {'learning_rate': 0.5, 'max_depth': 4, 'n_estimators': 40}\n",
      "0.771291 (0.011128) with: {'learning_rate': 0.5, 'max_depth': 4, 'n_estimators': 60}\n",
      "0.780240 (0.007147) with: {'learning_rate': 0.5, 'max_depth': 4, 'n_estimators': 80}\n",
      "0.771291 (0.011128) with: {'learning_rate': 0.5, 'max_depth': 4, 'n_estimators': 100}\n",
      "0.784625 (0.020300) with: {'learning_rate': 1, 'max_depth': 2, 'n_estimators': 10}\n",
      "0.780180 (0.026142) with: {'learning_rate': 1, 'max_depth': 2, 'n_estimators': 20}\n",
      "0.771231 (0.012230) with: {'learning_rate': 1, 'max_depth': 2, 'n_estimators': 40}\n",
      "0.780360 (0.015418) with: {'learning_rate': 1, 'max_depth': 2, 'n_estimators': 60}\n",
      "0.798258 (0.009880) with: {'learning_rate': 1, 'max_depth': 2, 'n_estimators': 80}\n",
      "0.780300 (0.004926) with: {'learning_rate': 1, 'max_depth': 2, 'n_estimators': 100}\n",
      "0.771171 (0.030042) with: {'learning_rate': 1, 'max_depth': 3, 'n_estimators': 10}\n",
      "0.780060 (0.034754) with: {'learning_rate': 1, 'max_depth': 3, 'n_estimators': 20}\n",
      "0.789249 (0.016651) with: {'learning_rate': 1, 'max_depth': 3, 'n_estimators': 40}\n",
      "0.798198 (0.022104) with: {'learning_rate': 1, 'max_depth': 3, 'n_estimators': 60}\n",
      "0.771411 (0.020686) with: {'learning_rate': 1, 'max_depth': 3, 'n_estimators': 80}\n",
      "0.766907 (0.015338) with: {'learning_rate': 1, 'max_depth': 3, 'n_estimators': 100}\n",
      "0.735616 (0.044605) with: {'learning_rate': 1, 'max_depth': 4, 'n_estimators': 10}\n",
      "0.766907 (0.031076) with: {'learning_rate': 1, 'max_depth': 4, 'n_estimators': 20}\n",
      "0.780360 (0.021936) with: {'learning_rate': 1, 'max_depth': 4, 'n_estimators': 40}\n",
      "0.784745 (0.022109) with: {'learning_rate': 1, 'max_depth': 4, 'n_estimators': 60}\n",
      "0.784685 (0.019779) with: {'learning_rate': 1, 'max_depth': 4, 'n_estimators': 80}\n",
      "0.784685 (0.019779) with: {'learning_rate': 1, 'max_depth': 4, 'n_estimators': 100}\n",
      "0.505766 (0.153977) with: {'learning_rate': 2, 'max_depth': 2, 'n_estimators': 10}\n",
      "0.502823 (0.143381) with: {'learning_rate': 2, 'max_depth': 2, 'n_estimators': 20}\n",
      "0.502823 (0.143381) with: {'learning_rate': 2, 'max_depth': 2, 'n_estimators': 40}\n",
      "0.502823 (0.143381) with: {'learning_rate': 2, 'max_depth': 2, 'n_estimators': 60}\n",
      "0.502823 (0.143381) with: {'learning_rate': 2, 'max_depth': 2, 'n_estimators': 80}\n",
      "0.502823 (0.143381) with: {'learning_rate': 2, 'max_depth': 2, 'n_estimators': 100}\n",
      "0.583724 (0.126522) with: {'learning_rate': 2, 'max_depth': 3, 'n_estimators': 10}\n",
      "0.515616 (0.061965) with: {'learning_rate': 2, 'max_depth': 3, 'n_estimators': 20}\n",
      "0.515616 (0.061965) with: {'learning_rate': 2, 'max_depth': 3, 'n_estimators': 40}\n",
      "0.515616 (0.061965) with: {'learning_rate': 2, 'max_depth': 3, 'n_estimators': 60}\n",
      "0.515616 (0.061965) with: {'learning_rate': 2, 'max_depth': 3, 'n_estimators': 80}\n",
      "0.515616 (0.061965) with: {'learning_rate': 2, 'max_depth': 3, 'n_estimators': 100}\n",
      "0.587147 (0.099909) with: {'learning_rate': 2, 'max_depth': 4, 'n_estimators': 10}\n",
      "0.627327 (0.128864) with: {'learning_rate': 2, 'max_depth': 4, 'n_estimators': 20}\n",
      "0.627327 (0.128864) with: {'learning_rate': 2, 'max_depth': 4, 'n_estimators': 40}\n",
      "0.627327 (0.128864) with: {'learning_rate': 2, 'max_depth': 4, 'n_estimators': 60}\n",
      "0.627327 (0.128864) with: {'learning_rate': 2, 'max_depth': 4, 'n_estimators': 80}\n",
      "0.627327 (0.128864) with: {'learning_rate': 2, 'max_depth': 4, 'n_estimators': 100}\n"
     ]
    }
   ],
   "source": [
    "# Hyper-parameter tuning\n",
    "from sklearn.model_selection import GridSearchCV\n",
    "\n",
    "# instantiate model\n",
    "model=GradientBoostingClassifier(max_features=2, random_state = 0)\n",
    "\n",
    "# fit model\n",
    "model.fit(X_train, y_train)\n",
    "\n",
    "# define the grid search parameters\n",
    "n_trees = [10, 20, 40, 60, 80, 100]\n",
    "lr = [0.1,0.5,1,2]\n",
    "md = [2,3,4]\n",
    "param_grid = dict(n_estimators=n_trees, learning_rate=lr, max_depth=md)\n",
    "\n",
    "grid = GridSearchCV(estimator=model, param_grid=param_grid, cv=3)\n",
    "\n",
    "grid_result = grid.fit(X_test, y_test)\n",
    "\n",
    "# summarize results\n",
    "print(\"Best: %f using %s\" % (grid_result.best_score_, grid_result.best_params_))\n",
    "means = grid_result.cv_results_['mean_test_score']\n",
    "stds = grid_result.cv_results_['std_test_score']\n",
    "params = grid_result.cv_results_['params']\n",
    "for mean, stdev, param in zip(means, stds, params):\n",
    "    print(\"%f (%f) with: %r\" % (mean, stdev, param))"
   ]
  },
  {
   "cell_type": "code",
   "execution_count": 29,
   "metadata": {},
   "outputs": [
    {
     "data": {
      "text/plain": [
       "array(['no survived', 'survived'], dtype='<U11')"
      ]
     },
     "execution_count": 29,
     "metadata": {},
     "output_type": "execute_result"
    }
   ],
   "source": [
    "from sklearn import datasets\n",
    "iris = datasets.load_iris()\n",
    "X = iris.data\n",
    "y = iris.target\n",
    "class_names = iris.target_names\n",
    "class_names\n",
    "labels=np.array(['no survived', 'survived'])\n",
    "labels"
   ]
  },
  {
   "cell_type": "code",
   "execution_count": 30,
   "metadata": {},
   "outputs": [
    {
     "name": "stdout",
     "output_type": "stream",
     "text": [
      "###### sklearn Confusion Matrix ######\n",
      "[[118  21]\n",
      " [ 26  58]]\n",
      "\n",
      "###### Pandas 'crosstab' Confusion Matrix ######\n",
      "Predicted    0   1  All\n",
      "Actual                 \n",
      "0          118  21  139\n",
      "1           26  58   84\n",
      "All        144  79  223\n",
      "\n",
      "###### Classification report Confusion Matrix ######\n",
      "Classification report:\n",
      "              precision    recall  f1-score   support\n",
      "\n",
      "           0       0.82      0.85      0.83       139\n",
      "           1       0.73      0.69      0.71        84\n",
      "\n",
      "    accuracy                           0.79       223\n",
      "   macro avg       0.78      0.77      0.77       223\n",
      "weighted avg       0.79      0.79      0.79       223\n",
      "\n",
      "\n"
     ]
    },
    {
     "data": {
      "image/png": "[encoded data removed]",
      "text/plain": [
       "<Figure size 432x288 with 2 Axes>"
      ]
     },
     "metadata": {
      "needs_background": "light"
     },
     "output_type": "display_data"
    }
   ],
   "source": [
    "# best model\n",
    "# Best: 0.811592 using {'learning_rate': 0.1, 'max_depth': 2, 'n_estimators': 20}\n",
    "best_model = GradientBoostingClassifier(n_estimators=20, learning_rate = 0.1, max_features=2, max_depth = 2, random_state = 0)\n",
    "\n",
    "# fit model\n",
    "best_model.fit(X_train, y_train)\n",
    "y_pred = best_model.predict(X_test)\n",
    "\n",
    "# sklearn Confusion Matrix\n",
    "print(\"###### sklearn Confusion Matrix ######\")\n",
    "print(confusion_matrix(y_test,y_pred))\n",
    "print()\n",
    "\n",
    "# Pandas 'crosstab' displays a better formated confusion matrix.\n",
    "# NOTE: inputs of y_test and y_pred must be np.array\n",
    "print(\"###### Pandas 'crosstab' Confusion Matrix ######\")\n",
    "cm = pd.crosstab(np.array(y_test), np.array(y_pred), rownames=['Actual'], colnames=['Predicted'], margins=True)\n",
    "print(cm) \n",
    "print()\n",
    "\n",
    "print(\"###### Classification report Confusion Matrix ######\")\n",
    "print(\"Classification report:\")\n",
    "print(classification_report(y_test, y_pred))\n",
    "print()\n",
    "\n",
    "# fig,ax=plt.subplots(1,1,figsize=(4,4))\n",
    "labels=np.array(['no survived', 'survived'])\n",
    "plot_confusion_matrix(best_model,X_test,y_test,display_labels=labels,cmap=plt.cm.YlGn)\n",
    "plt.ylabel=\"True Label\"\n",
    "plt.xlabel=\"Predicted Label\"\n",
    "plt.grid(False)\n",
    "plt.show()\n"
   ]
  },
  {
   "cell_type": "markdown",
   "metadata": {
    "colab_type": "text",
    "id": "ezq61Ov2Rz9G",
    "tags": []
   },
   "source": [
    "**<font color='teal'>Calculate the ROC for the model as well.</font>**"
   ]
  },
  {
   "cell_type": "code",
   "execution_count": 35,
   "metadata": {},
   "outputs": [
    {
     "name": "stdout",
     "output_type": "stream",
     "text": [
      "0.881466255566975\n"
     ]
    },
    {
     "data": {
      "image/png": "[encoded data removed]",
      "text/plain": [
       "<Figure size 576x216 with 2 Axes>"
      ]
     },
     "metadata": {
      "needs_background": "light"
     },
     "output_type": "display_data"
    }
   ],
   "source": [
    "# store the predicted probabilities for class 1\n",
    "y_pred_prob = best_model.predict_proba(X_test)[:, 1]\n",
    "\n",
    "# Get ROC curve FPR and TPR from true labels vs score values\n",
    "fpr, tpr, thresholds = roc_curve(y_test, y_pred_prob)\n",
    "\n",
    "# Calculate ROC Area Under the Curve (AUC) from FPR and TPR data points\n",
    "roc_auc = auc(fpr, tpr)\n",
    "print(roc_auc)\n",
    "\n",
    "# Calculate precision and recall from true labels vs score values\n",
    "precision, recall, thresholds = precision_recall_curve(y_test, y_pred_prob)\n",
    "\n",
    "fig, axes= plt.subplots(1,2,figsize=(8, 3))\n",
    "\n",
    "lw = 2\n",
    "axes[0].plot(fpr, tpr, color='orange', lw=lw, label='ROC curve (area = %0.4f)' % roc_auc)\n",
    "axes[0].plot([0, 1], [0, 1], color='navy', lw=lw, linestyle='--')\n",
    "axes[0].set_xlim([0.0, 1.0])\n",
    "axes[0].set_ylim([0.0, 1.05])\n",
    "axes[0].set_xlabel('False Positive Rate')\n",
    "axes[0].set_ylabel('True Positive Rate')\n",
    "axes[0].set_title('ROC Curve')\n",
    "axes[0].legend(loc=\"lower right\")\n",
    "axes[0].grid(True)\n",
    "\n",
    "axes[1].step(recall, precision, color='orange', where='post')\n",
    "# plt.fill_between(recall, precision, step='post', alpha=0.5, color='orange')\n",
    "axes[1].set_xlabel('Recall')\n",
    "axes[1].set_ylabel('Precision')\n",
    "axes[1].set_ylim([0.0, 1.05])\n",
    "axes[1].set_xlim([0.0, 1.0])\n",
    "axes[1].set_title('Precision Recall Curve')\n",
    "axes[1].grid(True)\n",
    "\n",
    "# left  = 0.125  # the left side of the subplots of the figure\n",
    "# right = 0.9    # the right side of the subplots of the figure\n",
    "# bottom = 0.1   # the bottom of the subplots of the figure\n",
    "# top = 0.9      # the top of the subplots of the figure\n",
    "# wspace = 0.5   # the amount of width reseaaarved for blank space between subplots\n",
    "# hspace = 0.2   # the amount of height reserved for white space between subplots\n",
    "# plt.subplots_adjust(left, bottom, right, top, wspace, hspace)\n",
    "plt.show()"
   ]
  },
  {
   "cell_type": "code",
   "execution_count": null,
   "metadata": {},
   "outputs": [],
   "source": []
  }
 ],
 "metadata": {
  "colab": {
   "name": "Gradient_Boosting_student.ipynb",
   "provenance": []
  },
  "deepnote_execution_queue": [],
  "hide_input": false,
  "kernelspec": {
   "display_name": "Python 3",
   "language": "python",
   "name": "python3"
  },
  "language_info": {
   "codemirror_mode": {
    "name": "ipython",
    "version": 3
   },
   "file_extension": ".py",
   "mimetype": "text/x-python",
   "name": "python",
   "nbconvert_exporter": "python",
   "pygments_lexer": "ipython3",
   "version": "3.8.3"
  },
  "toc": {
   "colors": {
    "hover_highlight": "#DAA520",
    "running_highlight": "#FF0000",
    "selected_highlight": "#FFD700"
   },
   "moveMenuLeft": true,
   "nav_menu": {
    "height": "78px",
    "width": "252px"
   },
   "navigate_menu": true,
   "number_sections": true,
   "sideBar": true,
   "threshold": 4,
   "toc_cell": false,
   "toc_section_display": "block",
   "toc_window_display": false
  }
 },
 "nbformat": 4,
 "nbformat_minor": 4
}
