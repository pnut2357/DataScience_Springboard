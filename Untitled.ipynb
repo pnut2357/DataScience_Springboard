{
 "cells": [
  {
   "cell_type": "code",
   "execution_count": 27,
   "metadata": {},
   "outputs": [],
   "source": [
    "x=-123"
   ]
  },
  {
   "cell_type": "code",
   "execution_count": 66,
   "metadata": {},
   "outputs": [],
   "source": [
    "\n",
    "def rever(x: int) -> int:\n",
    "    '''\n",
    "    if x >= 2**31 or x < -2**31:\n",
    "        return 0\n",
    "    s=list(str(x))\n",
    "    sign=1\n",
    "    if s[0].isdigit()==False:\n",
    "        sign=-1\n",
    "        s=s[1:]\n",
    "    s.reverse()\n",
    "    s=''.join(s)\n",
    "    s=sign*int(s)\n",
    "    return s\n",
    "    '''\n",
    "    sign = (x > 0) - (x < 0)\n",
    "    value = sign*int(str(x)[::-1])\n",
    "    print(value)\n",
    "    #print(s * value * (value < 2**31))\n",
    "    return sign * value * (value < 2**31)"
   ]
  },
  {
   "cell_type": "code",
   "execution_count": 68,
   "metadata": {},
   "outputs": [
    {
     "name": "stdout",
     "output_type": "stream",
     "text": [
      "9646324351\n"
     ]
    },
    {
     "data": {
      "text/plain": [
       "0"
      ]
     },
     "execution_count": 68,
     "metadata": {},
     "output_type": "execute_result"
    }
   ],
   "source": [
    "rever(1534236469)"
   ]
  },
  {
   "cell_type": "code",
   "execution_count": 70,
   "metadata": {},
   "outputs": [
    {
     "data": {
      "text/plain": [
       "False"
      ]
     },
     "execution_count": 70,
     "metadata": {},
     "output_type": "execute_result"
    }
   ],
   "source": [
    "(9646324351 < 2**31)"
   ]
  },
  {
   "cell_type": "code",
   "execution_count": null,
   "metadata": {},
   "outputs": [],
   "source": []
  }
 ],
 "metadata": {
  "kernelspec": {
   "display_name": "py36",
   "language": "python",
   "name": "py36"
  },
  "language_info": {
   "codemirror_mode": {
    "name": "ipython",
    "version": 3
   },
   "file_extension": ".py",
   "mimetype": "text/x-python",
   "name": "python",
   "nbconvert_exporter": "python",
   "pygments_lexer": "ipython3",
   "version": "3.7.3"
  }
 },
 "nbformat": 4,
 "nbformat_minor": 4
}
