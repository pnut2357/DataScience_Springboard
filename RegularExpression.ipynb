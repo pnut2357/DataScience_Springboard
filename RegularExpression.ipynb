{
 "cells": [
  {
   "cell_type": "markdown",
   "metadata": {},
   "source": [
    "# Regular Expressions in Python"
   ]
  },
  {
   "cell_type": "markdown",
   "metadata": {},
   "source": [
    "## 1. Introduction\n",
    "Regular expressions are Python’s method to check some patterns in your program.\n"
   ]
  },
  {
   "cell_type": "code",
   "execution_count": 6,
   "metadata": {},
   "outputs": [
    {
     "name": "stdout",
     "output_type": "stream",
     "text": [
      "The watermark extension is already loaded. To reload it, use:\n",
      "  %reload_ext watermark\n",
      "The autoreload extension is already loaded. To reload it, use:\n",
      "  %reload_ext autoreload\n",
      "Jae H. Choi 2020-08-21 19:59:21 \n",
      "\n",
      "CPython 3.8.3\n",
      "IPython 7.16.1\n",
      "\n",
      "pandas 1.0.5\n",
      "re 2.2.1\n"
     ]
    }
   ],
   "source": [
    "# ignore errors\n",
    "import warnings\n",
    "warnings.filterwarnings(action='ignore')\n",
    "# 1. magic to print version\n",
    "# 2. magic so that the notebook will reload external python modules\n",
    "# https://gist.github.com/minrk/3301035\n",
    "%load_ext watermark\n",
    "%load_ext autoreload\n",
    "%autoreload \n",
    "import pandas as pd\n",
    "import re\n",
    "%watermark -a 'Jae H. Choi' -d -t -v -p pandas,re"
   ]
  },
  {
   "cell_type": "markdown",
   "metadata": {},
   "source": [
    "## 2. The Simple Patterns"
   ]
  },
  {
   "cell_type": "markdown",
   "metadata": {},
   "source": [
    "The pattern is a string preceded by the `r`, which tells Python to interpet the string (the pattern that you want to see) as a regular expression. If you want to see if a variable pattern `it` in a word, `find_eat()` would help"
   ]
  },
  {
   "cell_type": "code",
   "execution_count": 6,
   "metadata": {},
   "outputs": [
    {
     "name": "stdout",
     "output_type": "stream",
     "text": [
      "this : NO the pattern of \"it\".\n",
      "is : NO the pattern of \"it\".\n",
      "fitting : found the pattern of \"it\".\n",
      "good : NO the pattern of \"it\".\n"
     ]
    }
   ],
   "source": [
    "def find_it(word):\n",
    "    found = re.search(r'it', word)\n",
    "    if found:\n",
    "        print(word, ': found the pattern of \"it\".')\n",
    "    else:\n",
    "        print(word, ': NO the pattern of \"it\".')\n",
    "############# Check #############\n",
    "find_it('this')\n",
    "find_it('is')\n",
    "find_it('fitting')\n",
    "find_it('good')"
   ]
  },
  {
   "cell_type": "markdown",
   "metadata": {},
   "source": [
    "## 3. Matching any single character"
   ]
  },
  {
   "cell_type": "markdown",
   "metadata": {},
   "source": [
    "What if a pattern that will match the letter e followed by any character at all, followed by the letter t. (e.g. e_t like 'eat'er, b'ett'er, etc.) To say “any character at all”, use `.`. Here’s the pattern:\n",
    "> **NOTE** any character can be inserted to _"
   ]
  },
  {
   "cell_type": "code",
   "execution_count": 3,
   "metadata": {},
   "outputs": [
    {
     "name": "stdout",
     "output_type": "stream",
     "text": [
      "better : Found the pattern.\n",
      "either : Found the pattern.\n",
      "best : Found the pattern.\n",
      "beast : No pattern.\n",
      "etch : No pattern.\n",
      "ease : No pattern.\n"
     ]
    }
   ],
   "source": [
    "def finder(pattern, word):\n",
    "    found = re.search(pattern, word)\n",
    "    if found:\n",
    "        print(word, f': Found the pattern.')\n",
    "    else:\n",
    "        print(word, f': No pattern.')\n",
    "############# Check #############\n",
    "finder(r'e.t', 'better')\n",
    "finder(r'e.t', 'either')\n",
    "finder(r'e.t', 'best')\n",
    "finder(r'e.t', 'beast')\n",
    "finder(r'e.t', 'etch')\n",
    "finder(r'e.t', 'ease')"
   ]
  },
  {
   "cell_type": "markdown",
   "metadata": {},
   "source": [
    "## 4. Matching classes of characters¶"
   ]
  },
  {
   "cell_type": "markdown",
   "metadata": {},
   "source": [
    "Now let’s find out how to narrow down the field a bit. We’d like to be able to find a pattern starting letter **b**, followed by any **vowel** (a, e, i, o, or u), followed by letter **t** (e.g. b_t like bot, bat, bite). To say “any one of a certain series of characters”, you enclose them in square brackets. The `finder()` found patters in words like **bat**, **bet**, rab**bit**, ro**bot**ic, and a**but**ment\n",
    "> **NOTE** any vowel can be inserted to _"
   ]
  },
  {
   "cell_type": "code",
   "execution_count": 4,
   "metadata": {},
   "outputs": [
    {
     "name": "stdout",
     "output_type": "stream",
     "text": [
      "bot : Found the pattern.\n",
      "bat : Found the pattern.\n",
      "rabbit : Found the pattern.\n",
      "robotic : Found the pattern.\n",
      "abutment : Found the pattern.\n",
      "boot : No pattern.\n",
      "beautiful : No pattern.\n"
     ]
    }
   ],
   "source": [
    "############# Check #############\n",
    "finder(r'b[aeiou]t', 'bot')\n",
    "finder(r'b[aeiou]t', 'bat')\n",
    "finder(r'b[aeiou]t', 'rabbit')\n",
    "finder(r'b[aeiou]t', 'robotic')\n",
    "finder(r'b[aeiou]t', 'abutment')\n",
    "finder(r'b[aeiou]t', 'boot')\n",
    "finder(r'b[aeiou]t', 'beautiful')"
   ]
  },
  {
   "cell_type": "markdown",
   "metadata": {},
   "source": [
    "You may also complement (negate `^` **inside of the bracket**) a class. The following patterns are examples: \n",
    "- `r'e[^aeiou]t'` : letter **e** followed by anything **except a vowel**, followed by a letter **t** e.g. e_t\n",
    "- `r'[^A-Z]'` : any character except a capital letter\n",
    "\n",
    "Likewise, there are some classes that are so useful that Python provides quick and easy abbrevations:\n",
    "<center><img src=\"RegularExpression/re_table.png\" height=\"400\" width=\"500\" /></center>"
   ]
  },
  {
   "cell_type": "markdown",
   "metadata": {},
   "source": [
    "## 5. Anchors"
   ]
  },
  {
   "cell_type": "markdown",
   "metadata": {},
   "source": [
    "All the patterns youe’ve seen so far will find a match anywhere within a string. But, what if you need to find the word **go** only at the beginning of a word like **go**ne, not for**go**t? To solve such an issue, Anchor comes; make sure that you are at a certain boundary before you continue the match. Unlike character classes, which match individual characters in a string, these anchors do not match any character; they simply establish that you are on the correct boundaries.\n",
    "\n",
    "The `^` **outside of a bracket** matches the beginning of a line, and the `$` matches the end of a line. Thus, `^[A-Z]` matches a capital letter at the beginning of the line. \n",
    "> Note that if you put the ^ **inside of the bracket**, you are using negation.\n",
    "\n",
    "The `\\b` and `\\B` are stand for a “word boundary” and “non-word boundary” respectively. For example, if you want to find the word **met** at the beginning of a word, we write the pattern `r'\\bmet'`, which will match like **met**al or **met**ropolitan, not hel**met**. The pattern `r'ing\\b'` will match like Hik**ing** or writ**ing**, not **ing**ots. Finally,the pattern `r'\\bhat\\b'` matches only like **hat**, not T**hat** or **hat**ers."
   ]
  },
  {
   "cell_type": "code",
   "execution_count": 7,
   "metadata": {},
   "outputs": [
    {
     "name": "stdin",
     "output_type": "stream",
     "text": [
      "Enter one of the preceding sentences: Are we meeting here? That is amazing!\n"
     ]
    },
    {
     "name": "stdout",
     "output_type": "stream",
     "text": [
      "\"Are we meeting here? That is amazing!\" : Found \"meet\" at the start of a word.\n",
      "\"Are we meeting here? That is amazing!\" : Found \"ing\" at the end of a word.\n"
     ]
    }
   ],
   "source": [
    "def find_boundary(in_str):\n",
    "    found1 = re.search(r'\\bmeet', in_str)\n",
    "    found2 = re.search(r'ing\\b', in_str)\n",
    "    found3 = re.search(r'\\bhat\\b', in_str)\n",
    "    if found1:\n",
    "        print(f'\"{in_str}\" : Found \"meet\" at the start of a word.')\n",
    "    if found2:\n",
    "        print(f'\"{in_str}\" : Found \"ing\" at the end of a word.')\n",
    "    if found3:\n",
    "        print(f'\"{in_str}\" : Found word \"hat\" in it.')\n",
    "############# Check #############\n",
    "in_str = input('Enter one of the preceding sentences:')\n",
    "find_boundary(in_str)"
   ]
  },
  {
   "cell_type": "markdown",
   "metadata": {},
   "source": [
    "While `\\b` is used to find the breakpoint between words and non-words, `\\B` finds pairs of letters or nonletters."
   ]
  },
  {
   "cell_type": "markdown",
   "metadata": {},
   "source": [
    "## 6. Repetition"
   ]
  },
  {
   "cell_type": "markdown",
   "metadata": {},
   "source": [
    "What if we want to match three digits in a row, or an arbitrary number of vowels? You can follow any class or character by a repetition count:\n",
    "\n",
    "<center><img src=\"RegularExpression/rep_table.png\" height=\"400\" width=\"500\" /></center>\n",
    "\n",
    "For instance, your ssn pattern match like `r'\\d{3}-\\d{2}-\\d{4}`. There are three repetitions that are so common that Python has special symbols for them: `*` means “zero or more,” `+` means “one or more,” and `?` means “zero or one.” Thus, if you want to look for lines consisting of last names followed by a first initial, you could use this pattern:"
   ]
  },
  {
   "cell_type": "code",
   "execution_count": 29,
   "metadata": {},
   "outputs": [
    {
     "name": "stdout",
     "output_type": "stream",
     "text": [
      "Jae, C : Found the pattern.\n",
      "Erik Naylor : NO such pattern.\n",
      "Jae C : Found the pattern.\n",
      "Tanyon : NO such pattern.\n"
     ]
    }
   ],
   "source": [
    "def find_last_and_initial(in_str):\n",
    "    # (word 1 or more)(, 0 or 1)(space)(A-Z 0 or more)\n",
    "    found = re.search(r'^\\w+,?\\s*[A-Z]$', in_str)\n",
    "    if found:\n",
    "        print(in_str, ': Found the pattern.')\n",
    "    else:\n",
    "        print(in_str, ': NO such pattern.')\n",
    "############# Check #############\n",
    "find_last_and_initial('Jae, C')\n",
    "find_last_and_initial('Erik Naylor')\n",
    "find_last_and_initial('Jae C')\n",
    "find_last_and_initial('Tanyon')"
   ]
  },
  {
   "cell_type": "markdown",
   "metadata": {},
   "source": [
    "Let’s analyze that pattern by parts:\n",
    "- `^` starting at the beginning of the string\n",
    "- `\\w+` look for one or more word characters\n",
    "- `,?` followed by an optional comma (zero or one commas)\n",
    "- `\\s*` zero or more spaces\n",
    "- `[A-Z]` and a capital letter\n",
    "- `$` which must be at the end of the string"
   ]
  },
  {
   "cell_type": "markdown",
   "metadata": {},
   "source": [
    "## 7. Grouping"
   ]
  },
  {
   "cell_type": "markdown",
   "metadata": {},
   "source": [
    "What if you want to scan for a last name, followed by an optional comma-whitespace-initial; it find name in both cases like 'Smith, J' or 'Smith'?"
   ]
  },
  {
   "cell_type": "code",
   "execution_count": 33,
   "metadata": {},
   "outputs": [
    {
     "name": "stdout",
     "output_type": "stream",
     "text": [
      "Jae, C : Found the pattern.\n",
      "Erik : Found the pattern.\n",
      "Calvin     K : Found the pattern.\n",
      "Big  Mouth : No such pattern.\n"
     ]
    }
   ],
   "source": [
    "def valid_name(in_str):\n",
    "    # (word 1 or more)(, 0 or 1)(space)(A-Z 0 or more)\n",
    "    found = re.search(r'^\\w+(,?\\s*[A-Z])?$', in_str)\n",
    "    if found:\n",
    "        print(in_str, ': Found the pattern.')\n",
    "    else:\n",
    "        print(in_str, ': No such pattern.')\n",
    "############# Check #############\n",
    "valid_name('Jae, C')\n",
    "valid_name('Erik')\n",
    "valid_name('Calvin     K')\n",
    "valid_name('Big  Mouth')"
   ]
  },
  {
   "cell_type": "markdown",
   "metadata": {},
   "source": [
    "## 8. Modifiers"
   ]
  },
  {
   "cell_type": "markdown",
   "metadata": {},
   "source": [
    "If you want a pattern match to be case-insenstive, add the `flags=re.I` to the `search()` call (The `I` stands for `IGNORECASE`, which you may also spell out completely if you wish). The following example shows a pattern that will match any Canadian postal code in upper or lower case. Canadian postal codes consist of a letter, a digit, and another letter, followed by a space, a digit, a letter, and another digit. An example of a valid postal code would be `A5B 6R9`."
   ]
  },
  {
   "cell_type": "code",
   "execution_count": 39,
   "metadata": {},
   "outputs": [
    {
     "name": "stdout",
     "output_type": "stream",
     "text": [
      "A5B 6R9 : Found the pattern.\n",
      "c7H 8j2 : Found the pattern.\n",
      "c7H 8j2 : No such pattern.\n"
     ]
    }
   ],
   "source": [
    "def valid_postcode_ignore(in_str):\n",
    "    # (start with A-Z 1)(digit 1)(A-Z 1)(space)(digit 1)(A-Z 1)(digit 1)\n",
    "    found = re.search(r'^[A-Z]\\d[A-Z]\\s+\\d[A-Z]\\d$', in_str, flags=re.I)\n",
    "    if found:\n",
    "        print(in_str, ': Found the pattern.')\n",
    "    else:\n",
    "        print(in_str, ': No such pattern.')\n",
    "def valid_postcode_noig(in_str):\n",
    "    # (start with A-Z 1)(digit 1)(A-Z 1)(space)(digit 1)(A-Z 1)(digit 1)\n",
    "    found = re.search(r'^[A-Z]\\d[A-Z]\\s+\\d[A-Z]\\d$', in_str)\n",
    "    if found:\n",
    "        print(in_str, ': Found the pattern.')\n",
    "    else:\n",
    "        print(in_str, ': No such pattern.')\n",
    "############# Check #############\n",
    "valid_postcode_ignore('A5B 6R9')\n",
    "valid_postcode_ignore('c7H 8j2')\n",
    "# ignore vs. without ignore \n",
    "valid_postcode_noig('c7H 8j2')"
   ]
  },
  {
   "cell_type": "markdown",
   "metadata": {},
   "source": [
    "## 9. Advanced Pattern Matching"
   ]
  },
  {
   "cell_type": "markdown",
   "metadata": {},
   "source": [
    "All you have done so far is testing to see whether a pattern matches or not. Now that you can match a person’s last name and initial, you might want to be able to grab them out of the string so that you can change 'Martinez, A' to 'A. Martinez'. To accomplish this, you will need something other than `search()`; you will need the `sub()` method to do substitution. You will also have to use the grouping parentheses, which have a side effect: whenever you use parentheses to group something, the pattern matching operation stores the part of the string that matched the group so that you can use it later on.\n",
    "\n",
    "It is now time to reveal a secret: the return value from `search()` is not a boolean; it is a matching object that has special properties that you can examine and use. In the following example, we have put parentheses around the 'last name' part of the pattern as well as the 'comma and initial' part. If there is a match, the program will display whatever was found in the grouping parentheses. The vertical bars are in the `print()` so that you can see where there are blanks (if any)."
   ]
  },
  {
   "cell_type": "code",
   "execution_count": 41,
   "metadata": {},
   "outputs": [
    {
     "name": "stdout",
     "output_type": "stream",
     "text": [
      "Pattern match results:\n",
      "whole match:      |Jae, C|\n",
      "first set of ():  |Jae|\n",
      "second set of (): |, C|\n"
     ]
    }
   ],
   "source": [
    "def valid_name(in_str):\n",
    "    \n",
    "    found = re.search(r'^(\\w+)(,?\\s*[A-Z])?$', in_str)\n",
    "    if found:\n",
    "        print('Pattern match results:')\n",
    "        print('whole match:      |', found.group(0), '|', sep='')\n",
    "        print('first set of ():  |', found.group(1), '|', sep='')\n",
    "        print('second set of (): |', found.group(2), '|', sep='')\n",
    "    else:\n",
    "        print(in_str, 'does not contain the pattern.')\n",
    "\n",
    "valid_name('Jae, C')\n",
    "# valid_name('Erik')  # try uncommenting these as well"
   ]
  },
  {
   "cell_type": "markdown",
   "metadata": {},
   "source": [
    "In the preceding code, `found` is the match object produced by the `search()` method. The `found.group(0)` method calls contains everything matched by the entire pattern. `found.group(1)` contains the part of the string that the first set of grouping parentheses matched–the last name, and `found.group(2)` contains the part of the string matched by the second set of grouping parentheses–the comma and initial, if any. If the pattern had more groups of parentheses, you would use `.group(3)`, `.group(4)`, and so forth.\n",
    "\n",
    "If you look at the output from `Jae, C` you’ll see that the second set of grouping parentheses doesn’t give you quite what you want. The group stores the entire matched substring, which includes the comma. You’d like to store only the initial. You can do this two ways. First, you can include yet another set of parentheses:"
   ]
  },
  {
   "cell_type": "code",
   "execution_count": 42,
   "metadata": {},
   "outputs": [
    {
     "name": "stdout",
     "output_type": "stream",
     "text": [
      "Pattern match results:\n",
      "whole match:     |Jae, C|\n",
      "first set of (): |Jae|\n",
      "outer set of (): |, C|\n",
      "inner set of (): |C|\n"
     ]
    }
   ],
   "source": [
    "def valid_name(in_str):\n",
    "    found = re.search(r'^(\\w+)(,?\\s*([A-Z]))?$', in_str)\n",
    "    if found:\n",
    "        print('Pattern match results:')\n",
    "        print('whole match:     |', found.group(0), '|', sep='')\n",
    "        print('first set of (): |', found.group(1), '|', sep='')\n",
    "        print('outer set of (): |', found.group(2), '|', sep='')\n",
    "        print('inner set of (): |', found.group(3), '|', sep='')\n",
    "    else:\n",
    "        print(in_str, 'does not contain the pattern.')\n",
    "\n",
    "valid_name('Jae, C')\n"
   ]
  },
  {
   "cell_type": "markdown",
   "metadata": {},
   "source": [
    "If you do it this way, then the capital letter is stored in `found.group(3)` and the entire comma-and-initial is stored in `found.group(2)`.\n",
    "\n",
    "The other way to do this is to say that the outer parentheses should group but not store the matched portion in the result array. You do that with a question mark and colon right after the outer parentheses."
   ]
  },
  {
   "cell_type": "code",
   "execution_count": 43,
   "metadata": {},
   "outputs": [
    {
     "name": "stdout",
     "output_type": "stream",
     "text": [
      "Pattern match results:\n",
      "whole match:     |Jae, C|\n",
      "first set of (): |Jae|\n",
      "inner set of (): |C|\n"
     ]
    }
   ],
   "source": [
    "def valid_name(in_str):\n",
    "    found = re.search(r'^(\\w+)(?:,?\\s*([A-Z]))?$', in_str)\n",
    "    if found:\n",
    "        print('Pattern match results:')\n",
    "        print('whole match:     |', found.group(0), '|', sep='')\n",
    "        print('first set of (): |', found.group(1), '|', sep='')\n",
    "        print('inner set of (): |', found.group(2), '|', sep='')\n",
    "    else:\n",
    "        print(in_str, 'does not contain the pattern.')\n",
    "\n",
    "valid_name('Jae, C')"
   ]
  },
  {
   "cell_type": "markdown",
   "metadata": {},
   "source": [
    "In this case, the initial is in `found.group(2)`, since the outer set of open parentheses doesn’t get stored. As you can see, patterns can very quickly become difficult to read, so let’s break this into parts:\n",
    "\n",
    "- `^` at the start of the string,\n",
    "- `(\\w+)` look for (and remember) one or more “word” characters\n",
    "- `(?:` start a non-storing group which consists of:\n",
    "    - `,?` an optional comma\n",
    "    - `\\s*` zero or more spaces\n",
    "    - `([A-Z])` and a capital letter, which is remembered because it is in parentheses\n",
    "- `)?` this ends the non-storing group; the question mark means it is all optional\n",
    "- `$` at which point we must be at the end of the string.\n",
    "\n",
    "Now that you know how to extract the last name and initial, you are in a position to use `sub()` to swap their positions. The `re.sub()` method takes three arguments:\n",
    "\n",
    "- A pattern to search for\n",
    "- A replacement pattern\n",
    "- The string to search in\n",
    "\n",
    "So, `re.sub(r'-\\d{4}', r'-XXXX', '301-22-0109')` will replace the last four digits of a Social Security number by Xes. This example does not work in ActiveCode (since `re.sub()` is not implemented), but it will work in IDLE."
   ]
  },
  {
   "cell_type": "markdown",
   "metadata": {},
   "source": [
    "If you are using grouping, you can use `\\1` and `\\2` in the replacement pattern to stand for the first and second matched groups. This is how you can write a program that will change names like “Jae, C” to “C. Jae”; in the following example, the comma and initial are not optional."
   ]
  },
  {
   "cell_type": "code",
   "execution_count": 45,
   "metadata": {},
   "outputs": [
    {
     "name": "stdout",
     "output_type": "stream",
     "text": [
      "J. Smith\n",
      "Joe-Bob Smythe-Fauntleroy\n",
      "Madonna\n",
      "M. Gonzales\n"
     ]
    }
   ],
   "source": [
    "def swap_name(in_str):\n",
    "    result = re.sub(r'^(\\w+),?\\s*([A-Z])$', r'\\2. \\1', in_str )\n",
    "    return result\n",
    "\n",
    "print(swap_name('Smith, J'))\n",
    "print(swap_name('Joe-Bob Smythe-Fauntleroy'))\n",
    "print(swap_name('Madonna'))\n",
    "print(swap_name('Gonzales M'))"
   ]
  },
  {
   "cell_type": "markdown",
   "metadata": {},
   "source": [
    "If you run the preceding program in IDLE, you will see that if the pattern does not match, `re.sub()` returns a copy of the input string, untouched..\n",
    "\n",
    "Finally, another example with groups. Say you want to match a phone number and find the area code, prefix, and number. In this case, rather than doing a substitution, we return a list with the relevant information, or a list of three empty strings if the input is not valid. Note that when you want to match to a real parenthesis, you have to precede it with a backslash to make it “not part of a group.” You can do it this way:"
   ]
  },
  {
   "cell_type": "markdown",
   "metadata": {},
   "source": [
    "Again, let’s break apart that pattern:\n",
    "\n",
    "- `\\(` look for a real open parenthesis\n",
    "- `(\\d{3})` followed by three digits (and store them)\n",
    "- `\\)` and a real closing parenthesis\n",
    "- `\\s*` followed by zero or more spaces\n",
    "- (\\d{3}) three digits (store them)\n",
    "- `-` a dash\n",
    "- `(\\d{4})` and four more digits (store them)"
   ]
  },
  {
   "cell_type": "markdown",
   "metadata": {},
   "source": [
    "## 10. Finding All Occurrences"
   ]
  },
  {
   "cell_type": "markdown",
   "metadata": {},
   "source": [
    "The `re.search()` method finds only the first occurrence of a pattern within a string. If you want to find all the matches in a string, use `re.findall()`, which returns a list of matched substrings. (Unlike `re.search()`, which returns match objects.) Here is a pattern that finds a capital letter followed by an optional dash and a single digit:"
   ]
  },
  {
   "cell_type": "code",
   "execution_count": 46,
   "metadata": {},
   "outputs": [
    {
     "name": "stdout",
     "output_type": "stream",
     "text": [
      "B3\n",
      "D-7\n",
      "C6\n",
      "A9\n"
     ]
    }
   ],
   "source": [
    "message = 'Insert tabs B3, D-7, and C6 into slot A9.'\n",
    "result = re.findall(r'([A-Z]-?\\d)', message)\n",
    "if result:\n",
    "    for item in result:\n",
    "        print(item)\n",
    "else:\n",
    "    print('findall() did not find any matches to the pattern.')\n"
   ]
  },
  {
   "cell_type": "markdown",
   "metadata": {},
   "source": [
    "Please check the [source](https://docs.python.org/3/library/re.html)"
   ]
  },
  {
   "cell_type": "code",
   "execution_count": null,
   "metadata": {},
   "outputs": [],
   "source": []
  }
 ],
 "metadata": {
  "kernelspec": {
   "display_name": "Python 3",
   "language": "python",
   "name": "python3"
  },
  "language_info": {
   "codemirror_mode": {
    "name": "ipython",
    "version": 3
   },
   "file_extension": ".py",
   "mimetype": "text/x-python",
   "name": "python",
   "nbconvert_exporter": "python",
   "pygments_lexer": "ipython3",
   "version": "3.8.3"
  }
 },
 "nbformat": 4,
 "nbformat_minor": 4
}
