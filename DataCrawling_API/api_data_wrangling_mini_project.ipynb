{
 "cells": [
  {
   "cell_type": "markdown",
   "metadata": {},
   "source": [
    "This exercise will require you to pull some data from the Qunadl API. Qaundl is currently the most widely used aggregator of financial market data."
   ]
  },
  {
   "cell_type": "markdown",
   "metadata": {},
   "source": [
    "As a first step, you will need to register a free account on the http://www.quandl.com website."
   ]
  },
  {
   "cell_type": "markdown",
   "metadata": {},
   "source": [
    "After you register, you will be provided with a unique API key, that you should store:"
   ]
  },
  {
   "cell_type": "code",
   "execution_count": 1,
   "metadata": {},
   "outputs": [],
   "source": [
    "# Store the API key as a string - according to PEP8, constants are always named in all upper case\n",
    "#API_KEY"
   ]
  },
  {
   "cell_type": "markdown",
   "metadata": {},
   "source": [
    "Qaundl has a large number of data sources, but, unfortunately, most of them require a Premium subscription. Still, there are also a good number of free datasets."
   ]
  },
  {
   "cell_type": "markdown",
   "metadata": {},
   "source": [
    "For this mini project, we will focus on equities data from the Frankfurt Stock Exhange (FSE), which is available for free. We'll try and analyze the stock prices of a company called Carl Zeiss Meditec, which manufactures tools for eye examinations, as well as medical lasers for laser eye surgery: https://www.zeiss.com/meditec/int/home.html. The company is listed under the stock ticker AFX_X."
   ]
  },
  {
   "cell_type": "markdown",
   "metadata": {},
   "source": [
    "## Steps:\n",
    "1. Go to the [quandle_webpage](http://www.quandl.com) and search for the company name that you are looking for.\n",
    "> **NOTE** Some of them are premium, which will cost you, but there are free data that you can filter in the search options. \n",
    "2. Find the code of the company for loading the data (e.g. FSE/EON_X).\n",
    "3. Determine the start and end dates for your interest of the data. \n",
    "4. Parse and analyze."
   ]
  },
  {
   "cell_type": "markdown",
   "metadata": {},
   "source": [
    "You can find the detailed Quandl API instructions here: https://docs.quandl.com/docs/time-series"
   ]
  },
  {
   "cell_type": "markdown",
   "metadata": {},
   "source": [
    "While there is a dedicated Python package for connecting to the Quandl API, we would prefer that you use the *requests* package, which can be easily downloaded using *pip* or *conda*. You can find the documentation for the package here: https://requests.readthedocs.io/en/master/"
   ]
  },
  {
   "cell_type": "markdown",
   "metadata": {},
   "source": [
    "Finally, apart from the *requests* package, you are encouraged to not use any third party Python packages, such as *pandas*, and instead focus on what's available in the Python Standard Library (the *collections* module might come in handy: https://pymotw.com/3/collections/ ).\n",
    "Also, since you won't have access to DataFrames, you are encouraged to us Python's native data structures - preferably dictionaries, though some questions can also be answered using lists.\n",
    "You can read more on these data structures here: https://docs.python.org/3/tutorial/datastructures.html"
   ]
  },
  {
   "cell_type": "markdown",
   "metadata": {},
   "source": [
    "Keep in mind that the JSON responses you will be getting from the API map almost one-to-one to Python's dictionaries. Unfortunately, they can be very nested, so make sure you read up on indexing dictionaries in the documentation provided above."
   ]
  },
  {
   "cell_type": "code",
   "execution_count": 2,
   "metadata": {},
   "outputs": [],
   "source": [
    "# First, import the relevant modules\n",
    "import requests\n",
    "import pandas as pd\n",
    "import numpy as np\n",
    "import os\n",
    "import quandl\n",
    "import time\n",
    "import json\n",
    "import matplotlib.pyplot as plt\n",
    "import seaborn as sns; sns.set(style='whitegrid')\n",
    "\n",
    "# Quandl API key\n",
    "from Quandl_key import api_key"
   ]
  },
  {
   "cell_type": "code",
   "execution_count": 3,
   "metadata": {},
   "outputs": [
    {
     "data": {
      "text/html": [
       "<div>\n",
       "<style scoped>\n",
       "    .dataframe tbody tr th:only-of-type {\n",
       "        vertical-align: middle;\n",
       "    }\n",
       "\n",
       "    .dataframe tbody tr th {\n",
       "        vertical-align: top;\n",
       "    }\n",
       "\n",
       "    .dataframe thead th {\n",
       "        text-align: right;\n",
       "    }\n",
       "</style>\n",
       "<table border=\"1\" class=\"dataframe\">\n",
       "  <thead>\n",
       "    <tr style=\"text-align: right;\">\n",
       "      <th></th>\n",
       "      <th>Open</th>\n",
       "      <th>High</th>\n",
       "      <th>Low</th>\n",
       "      <th>Close</th>\n",
       "      <th>Change</th>\n",
       "      <th>Traded Volume</th>\n",
       "      <th>Turnover</th>\n",
       "      <th>Last Price of the Day</th>\n",
       "      <th>Daily Traded Units</th>\n",
       "      <th>Daily Turnover</th>\n",
       "    </tr>\n",
       "    <tr>\n",
       "      <th>Date</th>\n",
       "      <th></th>\n",
       "      <th></th>\n",
       "      <th></th>\n",
       "      <th></th>\n",
       "      <th></th>\n",
       "      <th></th>\n",
       "      <th></th>\n",
       "      <th></th>\n",
       "      <th></th>\n",
       "      <th></th>\n",
       "    </tr>\n",
       "  </thead>\n",
       "  <tbody>\n",
       "    <tr>\n",
       "      <th>2020-08-10</th>\n",
       "      <td>9.948</td>\n",
       "      <td>9.97</td>\n",
       "      <td>9.85</td>\n",
       "      <td>9.924</td>\n",
       "      <td>None</td>\n",
       "      <td>4910026.0</td>\n",
       "      <td>48688691.42</td>\n",
       "      <td>None</td>\n",
       "      <td>None</td>\n",
       "      <td>None</td>\n",
       "    </tr>\n",
       "  </tbody>\n",
       "</table>\n",
       "</div>"
      ],
      "text/plain": [
       "             Open  High   Low  Close Change  Traded Volume     Turnover  \\\n",
       "Date                                                                      \n",
       "2020-08-10  9.948  9.97  9.85  9.924   None      4910026.0  48688691.42   \n",
       "\n",
       "           Last Price of the Day Daily Traded Units Daily Turnover  \n",
       "Date                                                                \n",
       "2020-08-10                  None               None           None  "
      ]
     },
     "execution_count": 3,
     "metadata": {},
     "output_type": "execute_result"
    }
   ],
   "source": [
    "# Now, call the Quandl API and pull out a small sample of the data (only one day) to get a glimpse\n",
    "# into the JSON structure that will be returned\n",
    "sample1 = quandl.get('FSE/EON_X', \n",
    "                  trim_start='2020-08-10',\n",
    "                  trim_end='2020-08-10',\n",
    "                  authtoken=api_key)\n",
    "\n",
    "df_sample1 = pd.DataFrame(sample1)\n",
    "json_sample1 = df_sample1.to_json(orient=\"records\")\n",
    "df_sample1"
   ]
  },
  {
   "cell_type": "code",
   "execution_count": 4,
   "metadata": {},
   "outputs": [
    {
     "data": {
      "text/plain": [
       "'[{\"Open\":9.948,\"High\":9.97,\"Low\":9.85,\"Close\":9.924,\"Change\":null,\"Traded Volume\":4910026.0,\"Turnover\":48688691.4200000018,\"Last Price of the Day\":null,\"Daily Traded Units\":null,\"Daily Turnover\":null}]'"
      ]
     },
     "execution_count": 4,
     "metadata": {},
     "output_type": "execute_result"
    }
   ],
   "source": [
    "json_sample1"
   ]
  },
  {
   "cell_type": "code",
   "execution_count": 5,
   "metadata": {},
   "outputs": [
    {
     "data": {
      "text/plain": [
       "[{'Open': 9.948,\n",
       "  'High': 9.97,\n",
       "  'Low': 9.85,\n",
       "  'Close': 9.924,\n",
       "  'Change': None,\n",
       "  'Traded Volume': 4910026.0,\n",
       "  'Turnover': 48688691.42,\n",
       "  'Last Price of the Day': None,\n",
       "  'Daily Traded Units': None,\n",
       "  'Daily Turnover': None}]"
      ]
     },
     "execution_count": 5,
     "metadata": {},
     "output_type": "execute_result"
    }
   ],
   "source": [
    "# Inspect the JSON structure of the object you created, \n",
    "# and take note of how nested it is,\n",
    "# as well as the overall structure\n",
    "readable_sample1 = json.loads(json_sample1)\n",
    "readable_sample1\n"
   ]
  },
  {
   "cell_type": "code",
   "execution_count": 6,
   "metadata": {},
   "outputs": [],
   "source": [
    "# datapath_skidata='example.csv'\n",
    "# if not os.path.exists(datapath_skidata):\n",
    "#     data.to_csv(datapath_skidata, index=False)"
   ]
  },
  {
   "cell_type": "markdown",
   "metadata": {},
   "source": [
    "These are your tasks for this mini project:\n",
    "\n",
    "**Questions**\n",
    "1. Collect data from the Franfurt Stock Exchange, for the ticker AFX_X, for the whole year 2017 (keep in mind that the date format is YYYY-MM-DD).\n",
    "2. Convert the returned JSON object into a Python dictionary.\n",
    "3. Calculate what the highest and lowest opening prices were for the stock in this period.\n",
    "4. What was the largest change in any one day (based on High and Low price)?\n",
    "5. What was the largest change between any two days (based on Closing Price)?\n",
    "6. What was the average daily trading volume during this year?\n",
    "7. (Optional) What was the median trading volume during this year. (Note: you may need to implement your own function for calculating the median.)"
   ]
  },
  {
   "cell_type": "markdown",
   "metadata": {},
   "source": [
    "**Q1:** Collect data of AFX_X in 2017 "
   ]
  },
  {
   "cell_type": "code",
   "execution_count": 7,
   "metadata": {},
   "outputs": [
    {
     "data": {
      "text/plain": [
       "pandas.core.frame.DataFrame"
      ]
     },
     "execution_count": 7,
     "metadata": {},
     "output_type": "execute_result"
    }
   ],
   "source": [
    "###################### Q1 ######################\n",
    "AFX2017=quandl.get('FSE/EON_X', \n",
    "                  trim_start='2017-01-01',\n",
    "                  trim_end='2017-12-31',\n",
    "                  authtoken=api_key)\n",
    "type(AFX2017)"
   ]
  },
  {
   "cell_type": "code",
   "execution_count": 8,
   "metadata": {},
   "outputs": [
    {
     "data": {
      "text/html": [
       "<div>\n",
       "<style scoped>\n",
       "    .dataframe tbody tr th:only-of-type {\n",
       "        vertical-align: middle;\n",
       "    }\n",
       "\n",
       "    .dataframe tbody tr th {\n",
       "        vertical-align: top;\n",
       "    }\n",
       "\n",
       "    .dataframe thead th {\n",
       "        text-align: right;\n",
       "    }\n",
       "</style>\n",
       "<table border=\"1\" class=\"dataframe\">\n",
       "  <thead>\n",
       "    <tr style=\"text-align: right;\">\n",
       "      <th></th>\n",
       "      <th>Open</th>\n",
       "      <th>High</th>\n",
       "      <th>Low</th>\n",
       "      <th>Close</th>\n",
       "      <th>Traded Volume</th>\n",
       "      <th>Turnover</th>\n",
       "    </tr>\n",
       "  </thead>\n",
       "  <tbody>\n",
       "    <tr>\n",
       "      <th>count</th>\n",
       "      <td>252.000000</td>\n",
       "      <td>252.000000</td>\n",
       "      <td>252.000000</td>\n",
       "      <td>252.000000</td>\n",
       "      <td>2.520000e+02</td>\n",
       "      <td>2.520000e+02</td>\n",
       "    </tr>\n",
       "    <tr>\n",
       "      <th>mean</th>\n",
       "      <td>8.419762</td>\n",
       "      <td>8.502976</td>\n",
       "      <td>8.332183</td>\n",
       "      <td>8.416310</td>\n",
       "      <td>1.170866e+07</td>\n",
       "      <td>9.762850e+07</td>\n",
       "    </tr>\n",
       "    <tr>\n",
       "      <th>std</th>\n",
       "      <td>1.149452</td>\n",
       "      <td>1.158468</td>\n",
       "      <td>1.133688</td>\n",
       "      <td>1.142913</td>\n",
       "      <td>6.142603e+06</td>\n",
       "      <td>4.981852e+07</td>\n",
       "    </tr>\n",
       "    <tr>\n",
       "      <th>min</th>\n",
       "      <td>6.650000</td>\n",
       "      <td>6.680000</td>\n",
       "      <td>6.530000</td>\n",
       "      <td>6.640000</td>\n",
       "      <td>2.105600e+04</td>\n",
       "      <td>1.592610e+05</td>\n",
       "    </tr>\n",
       "    <tr>\n",
       "      <th>25%</th>\n",
       "      <td>7.250000</td>\n",
       "      <td>7.350000</td>\n",
       "      <td>7.180000</td>\n",
       "      <td>7.260000</td>\n",
       "      <td>8.226474e+06</td>\n",
       "      <td>7.063960e+07</td>\n",
       "    </tr>\n",
       "    <tr>\n",
       "      <th>50%</th>\n",
       "      <td>8.490000</td>\n",
       "      <td>8.585000</td>\n",
       "      <td>8.370000</td>\n",
       "      <td>8.475000</td>\n",
       "      <td>1.054212e+07</td>\n",
       "      <td>8.831646e+07</td>\n",
       "    </tr>\n",
       "    <tr>\n",
       "      <th>75%</th>\n",
       "      <td>9.492500</td>\n",
       "      <td>9.582500</td>\n",
       "      <td>9.400000</td>\n",
       "      <td>9.460000</td>\n",
       "      <td>1.329224e+07</td>\n",
       "      <td>1.162143e+08</td>\n",
       "    </tr>\n",
       "    <tr>\n",
       "      <th>max</th>\n",
       "      <td>10.750000</td>\n",
       "      <td>10.810000</td>\n",
       "      <td>10.590000</td>\n",
       "      <td>10.690000</td>\n",
       "      <td>4.783972e+07</td>\n",
       "      <td>3.331778e+08</td>\n",
       "    </tr>\n",
       "  </tbody>\n",
       "</table>\n",
       "</div>"
      ],
      "text/plain": [
       "             Open        High         Low       Close  Traded Volume  \\\n",
       "count  252.000000  252.000000  252.000000  252.000000   2.520000e+02   \n",
       "mean     8.419762    8.502976    8.332183    8.416310   1.170866e+07   \n",
       "std      1.149452    1.158468    1.133688    1.142913   6.142603e+06   \n",
       "min      6.650000    6.680000    6.530000    6.640000   2.105600e+04   \n",
       "25%      7.250000    7.350000    7.180000    7.260000   8.226474e+06   \n",
       "50%      8.490000    8.585000    8.370000    8.475000   1.054212e+07   \n",
       "75%      9.492500    9.582500    9.400000    9.460000   1.329224e+07   \n",
       "max     10.750000   10.810000   10.590000   10.690000   4.783972e+07   \n",
       "\n",
       "           Turnover  \n",
       "count  2.520000e+02  \n",
       "mean   9.762850e+07  \n",
       "std    4.981852e+07  \n",
       "min    1.592610e+05  \n",
       "25%    7.063960e+07  \n",
       "50%    8.831646e+07  \n",
       "75%    1.162143e+08  \n",
       "max    3.331778e+08  "
      ]
     },
     "execution_count": 8,
     "metadata": {},
     "output_type": "execute_result"
    }
   ],
   "source": [
    "AFX2017.describe()"
   ]
  },
  {
   "cell_type": "markdown",
   "metadata": {},
   "source": [
    "**Q2:** Convert the data into dictionary."
   ]
  },
  {
   "cell_type": "code",
   "execution_count": 9,
   "metadata": {},
   "outputs": [
    {
     "data": {
      "text/plain": [
       "dict_keys(['Open', 'High', 'Low', 'Close', 'Change', 'Traded Volume', 'Turnover', 'Last Price of the Day', 'Daily Traded Units', 'Daily Turnover'])"
      ]
     },
     "execution_count": 9,
     "metadata": {},
     "output_type": "execute_result"
    }
   ],
   "source": [
    "###################### Q2 ######################\n",
    "AFX2017_dict = AFX2017.to_dict()\n",
    "AFX2017_dict.keys()"
   ]
  },
  {
   "cell_type": "code",
   "execution_count": 10,
   "metadata": {},
   "outputs": [],
   "source": [
    "###################### Q3 ######################\n",
    "def get_key(val, my_dict): \n",
    "    '''\n",
    "    To find the key if you know the value\n",
    "    '''\n",
    "    for key, value in my_dict.items(): \n",
    "        if val == value:\n",
    "            return key "
   ]
  },
  {
   "cell_type": "code",
   "execution_count": 11,
   "metadata": {},
   "outputs": [
    {
     "name": "stdout",
     "output_type": "stream",
     "text": [
      "max:10.75\n",
      "min:6.65\n"
     ]
    }
   ],
   "source": [
    "max_open_price=max(AFX2017_dict['Open'].values())\n",
    "min_open_price=min(AFX2017_dict['Open'].values())\n",
    "print(f'max:{max_open_price}')\n",
    "print(f'min:{min_open_price}')"
   ]
  },
  {
   "cell_type": "code",
   "execution_count": 12,
   "metadata": {},
   "outputs": [
    {
     "name": "stdout",
     "output_type": "stream",
     "text": [
      "Changing the type:\n",
      "<class 'pandas._libs.tslibs.timestamps.Timestamp'> -> <class 'datetime.datetime'>\n"
     ]
    }
   ],
   "source": [
    "print('Changing the type:')\n",
    "print(type(get_key(10.75, AFX2017_dict['Open'])), '->' ,type(get_key(10.75, AFX2017_dict['Open']).to_pydatetime()))"
   ]
  },
  {
   "cell_type": "markdown",
   "metadata": {},
   "source": [
    "**Q3:** highest / lowest opening prices"
   ]
  },
  {
   "cell_type": "code",
   "execution_count": 13,
   "metadata": {},
   "outputs": [
    {
     "name": "stdout",
     "output_type": "stream",
     "text": [
      "max: 10.75 at 2017-11-09\n",
      "min: 6.65 at 2017-01-05\n"
     ]
    }
   ],
   "source": [
    "key_max=get_key(10.75, AFX2017_dict['Open']).to_pydatetime()\n",
    "key_min=get_key(6.65, AFX2017_dict['Open']).to_pydatetime()\n",
    "max_date = str(key_max).split()[0]\n",
    "min_date = str(key_min).split()[0]\n",
    "print(f'max: {max_open_price} at {max_date}')\n",
    "print(f'min: {min_open_price} at {min_date}')"
   ]
  },
  {
   "cell_type": "code",
   "execution_count": 14,
   "metadata": {},
   "outputs": [
    {
     "data": {
      "text/plain": [
       "High    9.67\n",
       "Low     8.97\n",
       "Name: 241, dtype: float64"
      ]
     },
     "execution_count": 14,
     "metadata": {},
     "output_type": "execute_result"
    }
   ],
   "source": [
    "###################### Q4 ######################\n",
    "# Create the DataFrame of 'High' and 'Low'\n",
    "high_low_AFX2017=pd.DataFrame(zip( list(AFX2017_dict['High'].values()),\n",
    "                                   list(AFX2017_dict['Low'].values()) ), \n",
    "                              columns=['High', 'Low'])\n",
    "# Find the index of the largest change. \n",
    "max_change_idx=np.argmax(abs(high_low_AFX2017.High-high_low_AFX2017.Low))\n",
    "# Find the values of High and Low by using loc\n",
    "max_change = high_low_AFX2017.loc[max_change_idx]\n",
    "max_change"
   ]
  },
  {
   "cell_type": "code",
   "execution_count": 15,
   "metadata": {},
   "outputs": [
    {
     "name": "stdout",
     "output_type": "stream",
     "text": [
      "2017-09-01 00:00:00   2017-12-13 00:00:00\n"
     ]
    }
   ],
   "source": [
    "# Check both cases. \n",
    "print(get_key(9.67, AFX2017['High']) ,' ', get_key(8.97, AFX2017['Low']))"
   ]
  },
  {
   "cell_type": "code",
   "execution_count": 16,
   "metadata": {},
   "outputs": [
    {
     "data": {
      "text/plain": [
       "pandas.core.indexes.datetimes.DatetimeIndex"
      ]
     },
     "execution_count": 16,
     "metadata": {},
     "output_type": "execute_result"
    }
   ],
   "source": [
    "type(AFX2017.index)"
   ]
  },
  {
   "cell_type": "code",
   "execution_count": 17,
   "metadata": {},
   "outputs": [
    {
     "name": "stdout",
     "output_type": "stream",
     "text": [
      "Open                            9.53\n",
      "High                            9.67\n",
      "Low                             9.53\n",
      "Close                           9.63\n",
      "Change                          None\n",
      "Traded Volume            8.87317e+06\n",
      "Turnover                 8.53072e+07\n",
      "Last Price of the Day           None\n",
      "Daily Traded Units              None\n",
      "Daily Turnover                  None\n",
      "Name: 2017-09-01 00:00:00, dtype: object\n",
      "\n",
      "Open                            9.61\n",
      "High                            9.67\n",
      "Low                             8.97\n",
      "Close                           9.22\n",
      "Change                          None\n",
      "Traded Volume            3.36482e+07\n",
      "Turnover                 3.12565e+08\n",
      "Last Price of the Day           None\n",
      "Daily Traded Units              None\n",
      "Daily Turnover                  None\n",
      "Name: 2017-12-13 00:00:00, dtype: object\n"
     ]
    }
   ],
   "source": [
    "# Check both cases to know that which one is the date for the largest change. \n",
    "print(AFX2017.loc['2017-09-01'])\n",
    "print()\n",
    "print(AFX2017.loc['2017-12-13'])\n",
    "# 2017-12-13 matches with those max and min values. "
   ]
  },
  {
   "cell_type": "markdown",
   "metadata": {},
   "source": [
    "**Q4:** The largest change in any one day"
   ]
  },
  {
   "cell_type": "code",
   "execution_count": 18,
   "metadata": {},
   "outputs": [
    {
     "name": "stdout",
     "output_type": "stream",
     "text": [
      "<<Largest Change>>\n",
      "High: 9.67 Low: 8.97 at 2017-12-13\n"
     ]
    }
   ],
   "source": [
    "largest_change_date=str(get_key(8.97, AFX2017['Low']).to_pydatetime()).split()[0]\n",
    "print('<<Largest Change>>')\n",
    "print(f'High: {max_change.High} Low: {max_change.Low} at {largest_change_date}')"
   ]
  },
  {
   "cell_type": "code",
   "execution_count": 19,
   "metadata": {},
   "outputs": [
    {
     "data": {
      "image/png": "[encoded data removed]",
      "text/plain": [
       "<Figure size 432x288 with 1 Axes>"
      ]
     },
     "metadata": {},
     "output_type": "display_data"
    }
   ],
   "source": [
    "###################### Q5 ######################\n",
    "close_AFX2017=pd.DataFrame(list(AFX2017_dict['Close'].values()), \n",
    "                              columns=['Close'])\n",
    "culmul_close=close_AFX2017.Close.cumsum()\n",
    "date=(AFX2017.index)\n",
    "plt.plot(date, culmul_close)\n",
    "plt.show()\n"
   ]
  },
  {
   "cell_type": "code",
   "execution_count": 20,
   "metadata": {},
   "outputs": [
    {
     "data": {
      "text/plain": [
       "21.24000000000001"
      ]
     },
     "execution_count": 20,
     "metadata": {},
     "output_type": "execute_result"
    }
   ],
   "source": [
    "# The culmulated sum of close price is converted into list. \n",
    "culmul_close_list=list(culmul_close)\n",
    "culmul_close_list\n",
    "\n",
    "# Now, it became so simple that we can collect the difference\n",
    "# between two values that two days apart from each other by \n",
    "# having each value is subtracted by the value two days before. \n",
    "# and find the maximum. \n",
    "\n",
    "# empty list to store the difference of two values. \n",
    "diff=[]\n",
    "# loop for taking all the differences of two values.\n",
    "for i in range(2, len(culmul_close_list)):\n",
    "    diff.append(culmul_close_list[i]-culmul_close_list[i-2])\n",
    "# Find the max slope.\n",
    "max_slope=max(diff)\n",
    "max_slope"
   ]
  },
  {
   "cell_type": "code",
   "execution_count": 21,
   "metadata": {},
   "outputs": [
    {
     "name": "stdout",
     "output_type": "stream",
     "text": [
      "214\n",
      "21.24000000000001\n",
      "21.24000000000001\n"
     ]
    }
   ],
   "source": [
    "# Check the index of the max_slope.\n",
    "print(np.argmax(pd.DataFrame(diff)))\n",
    "# Check value again\n",
    "print(diff[214])\n",
    "# 2-0: 0 <=> 216-214: 214 This means that index 216-214 \n",
    "# Check the value.\n",
    "print(culmul_close_list[216]-culmul_close_list[214])"
   ]
  },
  {
   "cell_type": "code",
   "execution_count": 22,
   "metadata": {},
   "outputs": [
    {
     "name": "stdout",
     "output_type": "stream",
     "text": [
      "1783.46 , 1762.22\n",
      "Close    10.48\n",
      "Name: 214, dtype: float64 to Close    10.69\n",
      "Name: 216, dtype: float64\n"
     ]
    }
   ],
   "source": [
    "# Each value of culmul_close\n",
    "print(f'{culmul_close_list[216]:.2f} , {culmul_close_list[214]:.2f}')\n",
    "# The index of 214 to 216 is the same as the DataFrame close_AFX2017.\n",
    "print(f'{close_AFX2017.iloc[214]} to {close_AFX2017.iloc[216]}')"
   ]
  },
  {
   "cell_type": "code",
   "execution_count": 23,
   "metadata": {},
   "outputs": [
    {
     "data": {
      "text/plain": [
       "(Close    10.48\n",
       " Name: 214, dtype: float64,\n",
       " Close    10.69\n",
       " Name: 216, dtype: float64)"
      ]
     },
     "execution_count": 23,
     "metadata": {},
     "output_type": "execute_result"
    }
   ],
   "source": [
    "(close_AFX2017.iloc[214], close_AFX2017.iloc[216])"
   ]
  },
  {
   "cell_type": "code",
   "execution_count": 24,
   "metadata": {},
   "outputs": [
    {
     "name": "stdout",
     "output_type": "stream",
     "text": [
      "252 252\n"
     ]
    }
   ],
   "source": [
    "print(len(close_AFX2017), len(culmul_close))"
   ]
  },
  {
   "cell_type": "code",
   "execution_count": 25,
   "metadata": {},
   "outputs": [
    {
     "name": "stdout",
     "output_type": "stream",
     "text": [
      "21.24000000000001\n",
      "21.24000000000001\n",
      "Close    0.21\n"
     ]
    }
   ],
   "source": [
    "print(culmul_close_list[216]-culmul_close_list[214])\n",
    "print(culmul_close.iloc[216]-culmul_close.iloc[214])\n",
    "close_change=(close_AFX2017.iloc[216]-close_AFX2017.iloc[214]).to_string()\n",
    "print(close_change)"
   ]
  },
  {
   "cell_type": "markdown",
   "metadata": {},
   "source": [
    "**Q5:** The largest change between any two days (based on Closing Price)."
   ]
  },
  {
   "cell_type": "code",
   "execution_count": 26,
   "metadata": {},
   "outputs": [
    {
     "name": "stdout",
     "output_type": "stream",
     "text": [
      "Close    0.21 from 2017-11-06 to 2017-11-08\n"
     ]
    }
   ],
   "source": [
    "beg_largest_change_2days=str(get_key(10.48, AFX2017['Close']).to_pydatetime()).split()[0]\n",
    "end_largest_change_2days=str(get_key(10.69, AFX2017['Close']).to_pydatetime()).split()[0]\n",
    "print(f'{close_change} from {beg_largest_change_2days} to {end_largest_change_2days}')"
   ]
  },
  {
   "cell_type": "markdown",
   "metadata": {},
   "source": [
    "**Q6:** The average daily trading volume during this year."
   ]
  },
  {
   "cell_type": "code",
   "execution_count": 27,
   "metadata": {},
   "outputs": [
    {
     "data": {
      "text/plain": [
       "'Traded Volume    1.170866e+07'"
      ]
     },
     "execution_count": 27,
     "metadata": {},
     "output_type": "execute_result"
    }
   ],
   "source": [
    "###################### Q6 ######################\n",
    "Traded_AFX2017=pd.DataFrame(list(AFX2017_dict['Traded Volume'].values()), \n",
    "                              columns=['Traded Volume'])\n",
    "Traded_AFX2017.mean().to_string()"
   ]
  },
  {
   "cell_type": "code",
   "execution_count": 28,
   "metadata": {},
   "outputs": [],
   "source": [
    "###################### Q7 ######################\n",
    "def median_calc(data):\n",
    "    data_size=len(data)\n",
    "    if data_size%2==0:\n",
    "        print(data_size/2)\n",
    "        med=1/2*(data.iloc[data_size//2]+data.iloc[data_size//2+1])\n",
    "    else:\n",
    "        med=data.iloc[data_size//2+1]\n",
    "    return med"
   ]
  },
  {
   "cell_type": "markdown",
   "metadata": {},
   "source": [
    "**Q7:** The median trading volume during this year. (Note: you may need to implement your own function for calculating the median.)"
   ]
  },
  {
   "cell_type": "code",
   "execution_count": 29,
   "metadata": {},
   "outputs": [
    {
     "data": {
      "text/plain": [
       "'Traded Volume    7928522.0'"
      ]
     },
     "execution_count": 29,
     "metadata": {},
     "output_type": "execute_result"
    }
   ],
   "source": [
    "Traded_median_AFX2017=median=1/2*(Traded_AFX2017.iloc[126]+Traded_AFX2017.iloc[127])\n",
    "Traded_median_AFX2017.to_string()"
   ]
  }
 ],
 "metadata": {
  "kernelspec": {
   "display_name": "Python 3",
   "language": "python",
   "name": "python3"
  },
  "language_info": {
   "codemirror_mode": {
    "name": "ipython",
    "version": 3
   },
   "file_extension": ".py",
   "mimetype": "text/x-python",
   "name": "python",
   "nbconvert_exporter": "python",
   "pygments_lexer": "ipython3",
   "version": "3.8.3"
  }
 },
 "nbformat": 4,
 "nbformat_minor": 4
}
