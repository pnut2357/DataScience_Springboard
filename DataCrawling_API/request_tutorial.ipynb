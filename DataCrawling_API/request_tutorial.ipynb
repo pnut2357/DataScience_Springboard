{
 "cells": [
  {
   "cell_type": "code",
   "execution_count": 2,
   "metadata": {},
   "outputs": [],
   "source": [
    "import requests"
   ]
  },
  {
   "cell_type": "code",
   "execution_count": 3,
   "metadata": {},
   "outputs": [],
   "source": [
    "url = 'https://prettyprinted.com'\n",
    "res = requests.get(url)"
   ]
  },
  {
   "cell_type": "code",
   "execution_count": 5,
   "metadata": {},
   "outputs": [
    {
     "name": "stdout",
     "output_type": "stream",
     "text": [
      "200\n"
     ]
    }
   ],
   "source": [
    "print(res.status_code)"
   ]
  },
  {
   "cell_type": "code",
   "execution_count": 7,
   "metadata": {},
   "outputs": [
    {
     "name": "stdout",
     "output_type": "stream",
     "text": [
      "responded OK!\n"
     ]
    }
   ],
   "source": [
    "if res: \n",
    "    print('responded OK!')\n",
    "else:\n",
    "    print('failed!')"
   ]
  },
  {
   "cell_type": "code",
   "execution_count": 8,
   "metadata": {},
   "outputs": [
    {
     "name": "stdout",
     "output_type": "stream",
     "text": [
      "{'Server': 'nginx/1.14.2', 'Date': 'Mon, 10 Aug 2020 21:53:58 GMT', 'Content-Type': 'text/html', 'Last-Modified': 'Mon, 03 Aug 2020 18:42:10 GMT', 'Transfer-Encoding': 'chunked', 'Connection': 'keep-alive', 'Vary': 'Accept-Encoding', 'ETag': 'W/\"5f285a82-2697\"', 'X-Frame-Options': 'SAMEORIGIN', 'Content-Encoding': 'gzip'}\n"
     ]
    }
   ],
   "source": [
    "print(res.headers)"
   ]
  },
  {
   "cell_type": "code",
   "execution_count": 12,
   "metadata": {},
   "outputs": [],
   "source": [
    "#print(res.text)"
   ]
  },
  {
   "cell_type": "code",
   "execution_count": 11,
   "metadata": {},
   "outputs": [],
   "source": [
    "# generate the html file. \n",
    "output=open('index.html', 'w')\n",
    "output.write(res.text)\n",
    "output.close()"
   ]
  },
  {
   "cell_type": "code",
   "execution_count": 3,
   "metadata": {},
   "outputs": [],
   "source": [
    "from googletrans import Translator\n",
    "translator = Translator()\n",
    "result = translator.translate('hello', dest=\"ko\")\n",
    "#print(result[0].text)"
   ]
  },
  {
   "cell_type": "code",
   "execution_count": 17,
   "metadata": {},
   "outputs": [
    {
     "data": {
      "text/plain": [
       "{'src': 'en',\n",
       " 'dest': 'ko',\n",
       " 'origin': 'hello',\n",
       " 'text': '여보세요',\n",
       " 'pronunciation': 'yeoboseyo',\n",
       " 'extra_data': {'translation': [['여보세요', 'hello', None, None, 1],\n",
       "   [None, None, 'yeoboseyo', 'həˈlō']],\n",
       "  'all-translations': [['감탄사',\n",
       "    ['안녕하세요!', '여보!', '어이!', '여보세요!', '여보, 이 봐!'],\n",
       "    [['안녕하세요!',\n",
       "      ['Hello!',\n",
       "       'Good morning!',\n",
       "       'Good day!',\n",
       "       'Good evening!',\n",
       "       'Good afternoon!'],\n",
       "      None,\n",
       "      0.17929012],\n",
       "     ['여보!', ['Hello!'], None, 0.00023787863],\n",
       "     ['어이!', ['Yoo-Hoo!', 'Heigh!', 'Hello!', 'Hallo!'], None, 0.00011961289],\n",
       "     ['여보세요!', ['Hello!', 'You there!']],\n",
       "     ['여보, 이 봐!', ['Hello!']]],\n",
       "    'Hello!',\n",
       "    9]],\n",
       "  'original-language': 'en',\n",
       "  'possible-translations': [['hello',\n",
       "    None,\n",
       "    [['여보세요', 1000, True, False],\n",
       "     ['안녕하세요', 1000, True, False],\n",
       "     ['안녕', 1000, True, False],\n",
       "     ['안녕하십니까', 1000, True, False],\n",
       "     ['여보', 1000, True, False]],\n",
       "    [[0, 5]],\n",
       "    'hello',\n",
       "    0,\n",
       "    0]],\n",
       "  'confidence': 1.0,\n",
       "  'possible-mistakes': None,\n",
       "  'language': [['en'], None, [1.0], ['en']],\n",
       "  'synonyms': None,\n",
       "  'definitions': [['명사',\n",
       "    [['an utterance of “hello”; a greeting.',\n",
       "      'm_en_gbus0460730.025',\n",
       "      'she was getting polite nods and hellos from people']],\n",
       "    'hello'],\n",
       "   ['감탄사',\n",
       "    [['used as a greeting or to begin a telephone conversation.',\n",
       "      'm_en_gbus0460730.012',\n",
       "      'hello there, Katie!']],\n",
       "    'hello'],\n",
       "   ['동사',\n",
       "    [['say or shout “hello”; greet someone.', 'm_en_gbus0460730.034']],\n",
       "    'hello']],\n",
       "  'examples': [[[\"<b>hello</b>, what's this?\",\n",
       "     None,\n",
       "     None,\n",
       "     None,\n",
       "     3,\n",
       "     'neid_9510'],\n",
       "    [\"she refused and, <b>hello</b>, I'm her manager!\",\n",
       "     None,\n",
       "     None,\n",
       "     None,\n",
       "     3,\n",
       "     'neid_9509'],\n",
       "    ['<b>hello</b> there, Katie!',\n",
       "     None,\n",
       "     None,\n",
       "     None,\n",
       "     3,\n",
       "     'm_en_gbus0460730.012'],\n",
       "    ['<b>hello</b>, is anybody in?', None, None, None, 3, 'neid_9508'],\n",
       "    ['I said <b>hello</b> to him', None, None, None, 3, 'neid_9507']]],\n",
       "  'see-also': None}}"
      ]
     },
     "execution_count": 17,
     "metadata": {},
     "output_type": "execute_result"
    }
   ],
   "source": [
    "(result.__dict__)"
   ]
  },
  {
   "cell_type": "code",
   "execution_count": 32,
   "metadata": {},
   "outputs": [
    {
     "name": "stdout",
     "output_type": "stream",
     "text": [
      "English -> Korean\n",
      "hello -> 여보세요\n"
     ]
    }
   ],
   "source": [
    "print('English -> Korean')\n",
    "print(f'{result.origin} -> {result.text}')"
   ]
  },
  {
   "cell_type": "code",
   "execution_count": 28,
   "metadata": {},
   "outputs": [
    {
     "data": {
      "text/plain": [
       "[['감탄사',\n",
       "  ['안녕하세요!', '여보!', '어이!', '여보세요!', '여보, 이 봐!'],\n",
       "  [['안녕하세요!',\n",
       "    ['Hello!',\n",
       "     'Good morning!',\n",
       "     'Good day!',\n",
       "     'Good evening!',\n",
       "     'Good afternoon!'],\n",
       "    None,\n",
       "    0.17929012],\n",
       "   ['여보!', ['Hello!'], None, 0.00023787863],\n",
       "   ['어이!', ['Yoo-Hoo!', 'Heigh!', 'Hello!', 'Hallo!'], None, 0.00011961289],\n",
       "   ['여보세요!', ['Hello!', 'You there!']],\n",
       "   ['여보, 이 봐!', ['Hello!']]],\n",
       "  'Hello!',\n",
       "  9]]"
      ]
     },
     "execution_count": 28,
     "metadata": {},
     "output_type": "execute_result"
    }
   ],
   "source": [
    "result.extra_data['all-translations']"
   ]
  },
  {
   "cell_type": "code",
   "execution_count": 8,
   "metadata": {},
   "outputs": [],
   "source": [
    "import googletrans\n",
    "#print(googletrans.LANGUAGES)  "
   ]
  },
  {
   "cell_type": "code",
   "execution_count": 9,
   "metadata": {},
   "outputs": [],
   "source": [
    "\n",
    "s= open('korean.txt', 'r', encoding='UTF-8') \n",
    "sample = s.read()  ## stored the read file to sample\n",
    "s.close()\n",
    " \n",
    "\n"
   ]
  },
  {
   "cell_type": "code",
   "execution_count": 10,
   "metadata": {},
   "outputs": [
    {
     "data": {
      "text/plain": [
       "'---\\ntitle: Google Translate으로 MarkDown 문서 번역하기\\ndate: 2019-12-08\\ntags: [python, python-example]\\ndescription: python Google Translate API.\\n---\\n안녕하세요, 이 프로젝트는 한글을 영어로 번역하기 위헤 만들어졌습니다.\\npython에서 Google Translate API를 이용하여 MarkDown 문서를 번역하는 코드를 구현하였습니다. GatsbyJS에서 사용하는 MarkDown 형식이며, 원하는 언어로 번역을 하고 파일로 출력합니다. 제가 구현한 코드를 공유합니다.\\n'"
      ]
     },
     "execution_count": 10,
     "metadata": {},
     "output_type": "execute_result"
    }
   ],
   "source": [
    "sample"
   ]
  },
  {
   "cell_type": "code",
   "execution_count": 11,
   "metadata": {},
   "outputs": [],
   "source": [
    "translated = translator.translate(sample)  # tanslated\n",
    " \n",
    "t= open('sample_translated.txt', 'w', encoding='UTF-8')\n",
    "t.write(translated.text)  ##번역한 파일 저장함\n",
    "t.close()"
   ]
  },
  {
   "cell_type": "code",
   "execution_count": 5,
   "metadata": {},
   "outputs": [
    {
     "ename": "KeyboardInterrupt",
     "evalue": "Interrupted by user",
     "output_type": "error",
     "traceback": [
      "\u001b[0;31m---------------------------------------------------------------------------\u001b[0m",
      "\u001b[0;31mKeyboardInterrupt\u001b[0m                         Traceback (most recent call last)",
      "\u001b[0;32m<ipython-input-5-9fff276d3929>\u001b[0m in \u001b[0;36m<module>\u001b[0;34m\u001b[0m\n\u001b[0;32m----> 1\u001b[0;31m \u001b[0mlist\u001b[0m\u001b[0;34m(\u001b[0m\u001b[0mmap\u001b[0m\u001b[0;34m(\u001b[0m\u001b[0mint\u001b[0m\u001b[0;34m,\u001b[0m \u001b[0minput\u001b[0m\u001b[0;34m(\u001b[0m\u001b[0;34m)\u001b[0m\u001b[0;34m)\u001b[0m\u001b[0;34m)\u001b[0m\u001b[0;34m\u001b[0m\u001b[0;34m\u001b[0m\u001b[0m\n\u001b[0m",
      "\u001b[0;32m/opt/anaconda3/lib/python3.8/site-packages/ipykernel/kernelbase.py\u001b[0m in \u001b[0;36mraw_input\u001b[0;34m(self, prompt)\u001b[0m\n\u001b[1;32m    858\u001b[0m                 \u001b[0;34m\"raw_input was called, but this frontend does not support input requests.\"\u001b[0m\u001b[0;34m\u001b[0m\u001b[0;34m\u001b[0m\u001b[0m\n\u001b[1;32m    859\u001b[0m             )\n\u001b[0;32m--> 860\u001b[0;31m         return self._input_request(str(prompt),\n\u001b[0m\u001b[1;32m    861\u001b[0m             \u001b[0mself\u001b[0m\u001b[0;34m.\u001b[0m\u001b[0m_parent_ident\u001b[0m\u001b[0;34m,\u001b[0m\u001b[0;34m\u001b[0m\u001b[0;34m\u001b[0m\u001b[0m\n\u001b[1;32m    862\u001b[0m             \u001b[0mself\u001b[0m\u001b[0;34m.\u001b[0m\u001b[0m_parent_header\u001b[0m\u001b[0;34m,\u001b[0m\u001b[0;34m\u001b[0m\u001b[0;34m\u001b[0m\u001b[0m\n",
      "\u001b[0;32m/opt/anaconda3/lib/python3.8/site-packages/ipykernel/kernelbase.py\u001b[0m in \u001b[0;36m_input_request\u001b[0;34m(self, prompt, ident, parent, password)\u001b[0m\n\u001b[1;32m    902\u001b[0m             \u001b[0;32mexcept\u001b[0m \u001b[0mKeyboardInterrupt\u001b[0m\u001b[0;34m:\u001b[0m\u001b[0;34m\u001b[0m\u001b[0;34m\u001b[0m\u001b[0m\n\u001b[1;32m    903\u001b[0m                 \u001b[0;31m# re-raise KeyboardInterrupt, to truncate traceback\u001b[0m\u001b[0;34m\u001b[0m\u001b[0;34m\u001b[0m\u001b[0;34m\u001b[0m\u001b[0m\n\u001b[0;32m--> 904\u001b[0;31m                 \u001b[0;32mraise\u001b[0m \u001b[0mKeyboardInterrupt\u001b[0m\u001b[0;34m(\u001b[0m\u001b[0;34m\"Interrupted by user\"\u001b[0m\u001b[0;34m)\u001b[0m \u001b[0;32mfrom\u001b[0m \u001b[0;32mNone\u001b[0m\u001b[0;34m\u001b[0m\u001b[0;34m\u001b[0m\u001b[0m\n\u001b[0m\u001b[1;32m    905\u001b[0m             \u001b[0;32mexcept\u001b[0m \u001b[0mException\u001b[0m \u001b[0;32mas\u001b[0m \u001b[0me\u001b[0m\u001b[0;34m:\u001b[0m\u001b[0;34m\u001b[0m\u001b[0;34m\u001b[0m\u001b[0m\n\u001b[1;32m    906\u001b[0m                 \u001b[0mself\u001b[0m\u001b[0;34m.\u001b[0m\u001b[0mlog\u001b[0m\u001b[0;34m.\u001b[0m\u001b[0mwarning\u001b[0m\u001b[0;34m(\u001b[0m\u001b[0;34m\"Invalid Message:\"\u001b[0m\u001b[0;34m,\u001b[0m \u001b[0mexc_info\u001b[0m\u001b[0;34m=\u001b[0m\u001b[0;32mTrue\u001b[0m\u001b[0;34m)\u001b[0m\u001b[0;34m\u001b[0m\u001b[0;34m\u001b[0m\u001b[0m\n",
      "\u001b[0;31mKeyboardInterrupt\u001b[0m: Interrupted by user"
     ]
    }
   ],
   "source": [
    "list(map(int, input()))"
   ]
  },
  {
   "cell_type": "code",
   "execution_count": 9,
   "metadata": {},
   "outputs": [
    {
     "name": "stdin",
     "output_type": "stream",
     "text": [
      " 12\n"
     ]
    },
    {
     "name": "stdout",
     "output_type": "stream",
     "text": [
      "<map object at 0x112866ac0>\n"
     ]
    }
   ],
   "source": [
    "print(map(int, input()))"
   ]
  },
  {
   "cell_type": "code",
   "execution_count": 73,
   "metadata": {},
   "outputs": [],
   "source": [
    "def add(a):\n",
    "    return a+5\n",
    "\n",
    "\n",
    "nums=[1,3,4,0,7,70,0,0,7]"
   ]
  },
  {
   "cell_type": "code",
   "execution_count": 75,
   "metadata": {},
   "outputs": [
    {
     "name": "stdout",
     "output_type": "stream",
     "text": [
      "1 3 4 7 70 7 0 0 0 "
     ]
    }
   ],
   "source": [
    "\n",
    "num_zeros=0\n",
    "for i in range(len(nums)):\n",
    "    print(nums[i], end=' ')\n",
    "    if nums[i]==0:\n",
    "        num_zeros+=1\n",
    "\n",
    "for i in range(num_zeros):\n",
    "    nums.remove(0)\n",
    "    nums.append(0)\n"
   ]
  },
  {
   "cell_type": "code",
   "execution_count": 87,
   "metadata": {},
   "outputs": [
    {
     "data": {
      "text/plain": [
       "[1, 3, 4, 7, 70, 7, 0, 0, 0]"
      ]
     },
     "execution_count": 87,
     "metadata": {},
     "output_type": "execute_result"
    }
   ],
   "source": [
    "nums"
   ]
  },
  {
   "cell_type": "code",
   "execution_count": 92,
   "metadata": {},
   "outputs": [
    {
     "name": "stdout",
     "output_type": "stream",
     "text": [
      "70 7 7 4 3 1 0 0 0 "
     ]
    },
    {
     "data": {
      "text/plain": [
       "{0: 1, 1: 3, 2: 4, 3: 7, 4: 70, 5: 7, 6: 0, 7: 0, 8: 0}"
      ]
     },
     "execution_count": 92,
     "metadata": {},
     "output_type": "execute_result"
    }
   ],
   "source": [
    "\n",
    "for i in sorted(nums, reverse=True):\n",
    "    print(i, end=' ')\n",
    "idx=[]\n",
    "for i in range(len(nums)):\n",
    "    idx.append((i, nums[i])) \n",
    "dict(idx)"
   ]
  },
  {
   "cell_type": "code",
   "execution_count": 84,
   "metadata": {},
   "outputs": [
    {
     "name": "stdout",
     "output_type": "stream",
     "text": [
      "8 7 6 5 4 3 2 1 0 "
     ]
    }
   ],
   "source": [
    "for i in range(len(nums)-1,0-1,-1):\n",
    "    print(i, end=' ')\n",
    "    "
   ]
  },
  {
   "cell_type": "code",
   "execution_count": 106,
   "metadata": {},
   "outputs": [
    {
     "data": {
      "text/plain": [
       "{1: 0, 2: 1, 3: 2, 4: 3, 5: 4, 0: 7, 12: 6}"
      ]
     },
     "execution_count": 106,
     "metadata": {},
     "output_type": "execute_result"
    }
   ],
   "source": [
    "nums=[1,2,3,4,5, 0, 12, 0]\n",
    "dict_nums={key: val for val, key in enumerate(nums)}\n",
    "dict_nums"
   ]
  },
  {
   "cell_type": "code",
   "execution_count": 136,
   "metadata": {},
   "outputs": [],
   "source": []
  },
  {
   "cell_type": "code",
   "execution_count": 340,
   "metadata": {},
   "outputs": [],
   "source": [
    "board= [\n",
    "  [\"8\",\"3\",\".\",\".\",\"7\",\".\",\".\",\".\",\".\"],\n",
    "  [\"6\",\".\",\".\",\"1\",\"9\",\"5\",\".\",\".\",\".\"],\n",
    "  [\".\",\"9\",\"8\",\".\",\".\",\".\",\".\",\"6\",\".\"],\n",
    "  [\"8\",\".\",\".\",\".\",\"6\",\".\",\".\",\".\",\"3\"],\n",
    "  [\"4\",\".\",\".\",\"8\",\".\",\"3\",\".\",\".\",\"1\"],\n",
    "  [\"7\",\".\",\".\",\".\",\"2\",\".\",\".\",\".\",\"6\"],\n",
    "  [\".\",\"6\",\".\",\".\",\".\",\".\",\"2\",\"8\",\".\"],\n",
    "  [\".\",\".\",\".\",\"4\",\"1\",\"9\",\".\",\".\",\"5\"],\n",
    "  [\".\",\".\",\".\",\".\",\"8\",\".\",\".\",\"7\",\"9\"]\n",
    "]"
   ]
  },
  {
   "cell_type": "code",
   "execution_count": 415,
   "metadata": {},
   "outputs": [],
   "source": [
    "matrix= [\n",
    "  [ 1,2,3,4,5],\n",
    "  [ 7,8,9,10,11],\n",
    "  [13,14,15,16,17],\n",
    "  [19,20,21,22,23],\n",
    "  [25,26,27,28,29]\n",
    "]"
   ]
  },
  {
   "cell_type": "code",
   "execution_count": 416,
   "metadata": {},
   "outputs": [
    {
     "name": "stdout",
     "output_type": "stream",
     "text": [
      "29 28 27 23 22 21 "
     ]
    }
   ],
   "source": [
    "n = len(matrix)\n",
    "for i in range(n//2):\n",
    "    for j in range((n+1)//2):\n",
    "        #print(matrix[i][j], end=' ')\n",
    "        #print()\n",
    "        print(matrix[~i][~j], end=' ')\n",
    "        matrix[i][j], matrix[j][~i], matrix[~i][~j], matrix[~j][i] = matrix[~j][i], matrix[i][j], matrix[j][~i], matrix[~i][~j]"
   ]
  },
  {
   "cell_type": "code",
   "execution_count": 384,
   "metadata": {},
   "outputs": [
    {
     "data": {
      "text/plain": [
       "[[25, 19, 13, 4, 7, 1],\n",
       " [26, 20, 14, 10, 8, 2],\n",
       " [30, 22, 15, 16, 9, 3],\n",
       " [31, 23, 21, 17, 11, 5],\n",
       " [32, 24, 27, 28, 29, 18, 12, 6]]"
      ]
     },
     "execution_count": 384,
     "metadata": {},
     "output_type": "execute_result"
    }
   ],
   "source": [
    "matrix"
   ]
  },
  {
   "cell_type": "code",
   "execution_count": 377,
   "metadata": {},
   "outputs": [
    {
     "data": {
      "text/plain": [
       "[[777, 1, 9, 11], [2, 4, 8, 10], [13, 3, 6, 7], [15, 14, 12, 16]]"
      ]
     },
     "execution_count": 377,
     "metadata": {},
     "output_type": "execute_result"
    }
   ],
   "source": [
    "matrix[0][0]=777\n",
    "matrix"
   ]
  },
  {
   "cell_type": "code",
   "execution_count": 378,
   "metadata": {},
   "outputs": [
    {
     "data": {
      "text/plain": [
       "[[5, 1, 9, 11], [2, 4, 8, 10], [13, 3, 6, 7], [15, 14, 12, 16]]"
      ]
     },
     "execution_count": 378,
     "metadata": {},
     "output_type": "execute_result"
    }
   ],
   "source": [
    "row_container"
   ]
  },
  {
   "cell_type": "code",
   "execution_count": 342,
   "metadata": {},
   "outputs": [
    {
     "name": "stdout",
     "output_type": "stream",
     "text": [
      "True\n"
     ]
    }
   ],
   "source": [
    "result=True\n",
    "# From 0 row to end row \n",
    "for row in range(len(board)):\n",
    "    # From 0 col to end col\n",
    "    for col in range(len(board[row])):\n",
    "        if board[row][col]!='.':\n",
    "            num=board[row][col]\n",
    "            # if 0 col, check 1 col to end col\n",
    "            # if 1 col, check 2 col to end col\n",
    "            # ...\n",
    "            for anot_col in range(col+1, len(board[row])):\n",
    "                if (num == board[row][anot_col]):\n",
    "                    result=False\n",
    "                    break\n",
    "print(result)\n",
    "\n",
    "\n",
    "        "
   ]
  },
  {
   "cell_type": "code",
   "execution_count": 343,
   "metadata": {},
   "outputs": [
    {
     "data": {
      "text/plain": [
       "[['8', '3', '.', '.', '7', '.', '.', '.', '.'],\n",
       " ['6', '.', '.', '1', '9', '5', '.', '.', '.'],\n",
       " ['.', '9', '8', '.', '.', '.', '.', '6', '.'],\n",
       " ['8', '.', '.', '.', '6', '.', '.', '.', '3'],\n",
       " ['4', '.', '.', '8', '.', '3', '.', '.', '1'],\n",
       " ['7', '.', '.', '.', '2', '.', '.', '.', '6'],\n",
       " ['.', '6', '.', '.', '.', '.', '2', '8', '.'],\n",
       " ['.', '.', '.', '4', '1', '9', '.', '.', '5'],\n",
       " ['.', '.', '.', '.', '8', '.', '.', '7', '9']]"
      ]
     },
     "execution_count": 343,
     "metadata": {},
     "output_type": "execute_result"
    }
   ],
   "source": [
    "board"
   ]
  },
  {
   "cell_type": "code",
   "execution_count": 344,
   "metadata": {},
   "outputs": [
    {
     "name": "stdout",
     "output_type": "stream",
     "text": [
      "3 0\n",
      "8\n",
      "False\n"
     ]
    }
   ],
   "source": [
    "# From 0 col to end col\n",
    "for col in range(len(board[0])):\n",
    "    # From 0 row to end row\n",
    "    for row in range(len(board)):\n",
    "        if board[row][col]!='.':\n",
    "            num=board[row][col]\n",
    "            # if 0 row, 1 row to end row\n",
    "            # if 1 col, 2 row to end row\n",
    "            for anot_row in range(row+1, len(board)):\n",
    "                if (num == board[anot_row][col]):\n",
    "                    print(anot_row, col)\n",
    "                    print(board[anot_row][col])\n",
    "                    result=False\n",
    "                    break\n",
    "            \n",
    "print(result)"
   ]
  },
  {
   "cell_type": "code",
   "execution_count": 345,
   "metadata": {},
   "outputs": [],
   "source": [
    "class Solution:\n",
    "    def isValidSudoku(self, board) -> bool:\n",
    "        seen = set()\n",
    "        for row in range(len(board)):\n",
    "            for col in range(len(board)):\n",
    "                current_num=board[row][col]\n",
    "                if (current_num != '.'):\n",
    "                    if (not seen.add(current_num))\n",
    "        return result"
   ]
  },
  {
   "cell_type": "code",
   "execution_count": 346,
   "metadata": {},
   "outputs": [
    {
     "data": {
      "text/plain": [
       "False"
      ]
     },
     "execution_count": 346,
     "metadata": {},
     "output_type": "execute_result"
    }
   ],
   "source": [
    "a=Solution()\n",
    "a.isValidSudoku(board)"
   ]
  },
  {
   "cell_type": "code",
   "execution_count": 358,
   "metadata": {},
   "outputs": [
    {
     "name": "stdout",
     "output_type": "stream",
     "text": [
      "True\n",
      "True\n",
      "True\n",
      "True\n",
      "True\n",
      "True\n",
      "True\n",
      "True\n",
      "True\n",
      "True\n",
      "True\n",
      "True\n",
      "True\n",
      "True\n",
      "True\n",
      "True\n",
      "True\n",
      "True\n",
      "True\n",
      "True\n",
      "True\n",
      "True\n",
      "True\n",
      "True\n",
      "True\n",
      "True\n",
      "True\n",
      "True\n",
      "True\n",
      "True\n"
     ]
    }
   ],
   "source": [
    "seen = set()\n",
    "for row in range(len(board)):\n",
    "    for col in range(len(board)):\n",
    "        current_num=board[row][col]\n",
    "        if (current_num != '.'):\n",
    "            print(not seen.add(current_num))"
   ]
  },
  {
   "cell_type": "code",
   "execution_count": null,
   "metadata": {},
   "outputs": [],
   "source": []
  }
 ],
 "metadata": {
  "kernelspec": {
   "display_name": "Python 3",
   "language": "python",
   "name": "python3"
  },
  "language_info": {
   "codemirror_mode": {
    "name": "ipython",
    "version": 3
   },
   "file_extension": ".py",
   "mimetype": "text/x-python",
   "name": "python",
   "nbconvert_exporter": "python",
   "pygments_lexer": "ipython3",
   "version": "3.8.3"
  }
 },
 "nbformat": 4,
 "nbformat_minor": 4
}
