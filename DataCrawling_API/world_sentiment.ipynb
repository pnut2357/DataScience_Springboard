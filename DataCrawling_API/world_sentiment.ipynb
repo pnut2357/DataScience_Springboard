{
 "cells": [
  {
   "cell_type": "code",
   "execution_count": 1,
   "metadata": {},
   "outputs": [],
   "source": [
    "import tweepy\n",
    "from textblob import TextBlob\n",
    "import preprocessor as prep\n",
    "import statistics\n",
    "from typing import List"
   ]
  },
  {
   "cell_type": "code",
   "execution_count": 2,
   "metadata": {},
   "outputs": [],
   "source": [
    "from secrets import consumer_key, consumer_secret, access_key, access_secret\n",
    "# try doing this now:\n",
    "auth= tweepy.AppAuthHandler(consumer_key, consumer_secret)\n",
    "api = tweepy.API(auth)"
   ]
  },
  {
   "cell_type": "code",
   "execution_count": 3,
   "metadata": {},
   "outputs": [],
   "source": [
    "# for status in tweepy.Cursor(api.user_timeline, id='MACcosmetics', tweet_mode='extended').items():\n",
    "#     print(status.full_text)\n",
    "# auth = tweepy.OAuthHandler(consumer_key, consumer_secret) \n",
    "# auth.set_access_token(access_key, access_secret)\n",
    "# api = tweepy.API(auth)\n"
   ]
  },
  {
   "cell_type": "code",
   "execution_count": 4,
   "metadata": {},
   "outputs": [],
   "source": [
    "# tweets = api.mentions_timeline()\n",
    "# print(tweets)"
   ]
  },
  {
   "cell_type": "code",
   "execution_count": 8,
   "metadata": {},
   "outputs": [],
   "source": [
    "def get_tweets(keyword: str) -> List[str]:\n",
    "    all_tweets=[]\n",
    "    for tweet in tweepy.Cursor(api.search, q=keyword, tweet_mode='extended', lang='en').items(10):\n",
    "        all_tweets.append(tweet.full_text)\n",
    "    return all_tweets\n",
    "\n",
    "def clean_tweets(all_tweets: List[str]) -> List[str]:\n",
    "    tweets_clean=[]\n",
    "    for tweet in all_tweets:\n",
    "        tweets_clean.append(prep.clean(tweet))\n",
    "    return tweets_clean\n",
    "\n",
    "def get_sentiment(all_tweets: List[str]) -> List[float]:\n",
    "    sentiment_scores=[]\n",
    "    for tweet in all_tweets:\n",
    "        blob = TextBlob(tweet)\n",
    "        sentiment_scores.append(blob.sentiment.polarity)\n",
    "    return sentiment_scores\n",
    "\n",
    "def generate_average_sentiment_score(keyword: str) -> int:\n",
    "    tweets = get_tweets(keyword)\n",
    "    tweets_clean = clean_tweets(tweets)\n",
    "    sentiment_scores = get_sentiment(tweets_clean)\n",
    "    average_score = statistics.mean(sentiment_scores)\n",
    "    return average_score\n",
    "\n",
    "\n"
   ]
  },
  {
   "cell_type": "code",
   "execution_count": 9,
   "metadata": {},
   "outputs": [
    {
     "name": "stdout",
     "output_type": "stream",
     "text": [
      "What does the world prefer?\n"
     ]
    },
    {
     "name": "stdin",
     "output_type": "stream",
     "text": [
      " superman\n"
     ]
    },
    {
     "name": "stdout",
     "output_type": "stream",
     "text": [
      "...or...\n"
     ]
    },
    {
     "name": "stdin",
     "output_type": "stream",
     "text": [
      " batman\n"
     ]
    },
    {
     "name": "stdout",
     "output_type": "stream",
     "text": [
      "\n",
      "the humanity prefers batman over superman\n"
     ]
    }
   ],
   "source": [
    "if __name__ == '__main__':\n",
    "    print('What does the world prefer?')\n",
    "    first_thing = input()\n",
    "    print('...or...')\n",
    "    second_thing = input()\n",
    "    print()\n",
    "    first_score = generate_average_sentiment_score(first_thing)\n",
    "    second_score = generate_average_sentiment_score(second_thing)\n",
    "    if (first_score > second_score):\n",
    "        print(f'the humanity prefers {first_thing} over {second_thing}!')\n",
    "    else:\n",
    "        print(f'the humanity prefers {second_thing} over {first_thing}')\n"
   ]
  },
  {
   "cell_type": "code",
   "execution_count": 12,
   "metadata": {},
   "outputs": [
    {
     "data": {
      "text/plain": [
       "['RT @CristianT__T: The Best #superman 🧤🧤 https://t.co/UmXiDDQ4c4',\n",
       " '@DanSlott WATCHMEN\\nPERSEPOLIS\\nMAUS\\nBATMAN YEAR ONE\\nX-MEN GOD LOVES, MAN KILLS\\nSECRET WARS\\nIDENTITY CRISIS\\nBATMAN BLACK MIRROR\\nSPIDER-MAN SAGA OF THE ALIEN COSTUME\\nALL-STAR SUPERMAN',\n",
       " '@FeathersandFoes I chose Superman on purpose. His stories are usually uplifting and pretty positive. If you get a chance, the first story arc post Infinite Crisis (one year later) is amazing.',\n",
       " '@DanSlott Dark Pheonix\\nAll Star Superman\\nSuperman: Secret Identity\\nMister Miracle',\n",
       " '@cieItae the return of superman',\n",
       " \"RT @Mister_Walsh: Watching Superman: The Movie as I draw today and it's got me itching for a new Supes movies that is full of hope and ligh…\",\n",
       " 'RT @DrPopCultureBG: Great Moments in Villainy\\n\\n#Superman https://t.co/c3kiDO213F',\n",
       " '@AdamTGorham @Mister_Walsh Frankly it’s the only parts of Snyder’s Superman I like. The flying scene in the arctic with soaring score. \\n\\nThen the rest happened.',\n",
       " 'Great Moments in Villainy\\n\\n#Superman https://t.co/c3kiDO213F',\n",
       " 'My superman T-shirt for for me on my birthday by my sweet little strawberry pie cup I love you dear https://t.co/GCrjm5nz69']"
      ]
     },
     "execution_count": 12,
     "metadata": {},
     "output_type": "execute_result"
    }
   ],
   "source": [
    "tweets = get_tweets('superman')\n",
    "tweets"
   ]
  },
  {
   "cell_type": "code",
   "execution_count": 13,
   "metadata": {},
   "outputs": [
    {
     "data": {
      "text/plain": [
       "[': The Best',\n",
       " 'WATCHMENPERSEPOLISMAUSBATMAN YEAR ONEX-MEN GOD LOVES, MAN KILLSSECRET WARSIDENTITY CRISISBATMAN BLACK MIRRORSPIDER-MAN SAGA OF THE ALIEN COSTUMEALL-STAR SUPERMAN',\n",
       " 'I chose Superman on purpose. His stories are usually uplifting and pretty positive. If you get a chance, the first story arc post Infinite Crisis (one year later) is amazing.',\n",
       " 'Dark PheonixAll Star SupermanSuperman: Secret IdentityMister Miracle',\n",
       " 'the return of superman',\n",
       " \": Watching Superman: The Movie as I draw today and it's got me itching for a new Supes movies that is full of hope and ligh\",\n",
       " ': Great Moments in Villainy',\n",
       " 'Frankly its the only parts of Snyders Superman I like. The flying scene in the arctic with soaring score. Then the rest happened.',\n",
       " 'Great Moments in Villainy',\n",
       " 'My superman T-shirt for for me on my birthday by my sweet little strawberry pie cup I love you dear']"
      ]
     },
     "execution_count": 13,
     "metadata": {},
     "output_type": "execute_result"
    }
   ],
   "source": [
    "tweets_clean=clean_tweets(tweets)\n",
    "tweets_clean"
   ]
  },
  {
   "cell_type": "code",
   "execution_count": 14,
   "metadata": {},
   "outputs": [
    {
     "data": {
      "text/plain": [
       "[1.0,\n",
       " -0.20833333333333331,\n",
       " 0.17954545454545456,\n",
       " -0.275,\n",
       " 0.0,\n",
       " 0.24318181818181817,\n",
       " 0.8,\n",
       " 0.0,\n",
       " 0.8,\n",
       " 0.22083333333333333]"
      ]
     },
     "execution_count": 14,
     "metadata": {},
     "output_type": "execute_result"
    }
   ],
   "source": [
    "sentiment_scores = get_sentiment(tweets_clean)\n",
    "sentiment_scores"
   ]
  },
  {
   "cell_type": "code",
   "execution_count": null,
   "metadata": {},
   "outputs": [],
   "source": []
  }
 ],
 "metadata": {
  "kernelspec": {
   "display_name": "Python 3",
   "language": "python",
   "name": "python3"
  },
  "language_info": {
   "codemirror_mode": {
    "name": "ipython",
    "version": 3
   },
   "file_extension": ".py",
   "mimetype": "text/x-python",
   "name": "python",
   "nbconvert_exporter": "python",
   "pygments_lexer": "ipython3",
   "version": "3.8.3"
  }
 },
 "nbformat": 4,
 "nbformat_minor": 4
}
